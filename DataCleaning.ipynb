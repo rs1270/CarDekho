{
 "cells": [
  {
   "cell_type": "code",
   "execution_count": 1,
   "metadata": {},
   "outputs": [
    {
     "data": {
      "text/html": [
       "<div>\n",
       "<style scoped>\n",
       "    .dataframe tbody tr th:only-of-type {\n",
       "        vertical-align: middle;\n",
       "    }\n",
       "\n",
       "    .dataframe tbody tr th {\n",
       "        vertical-align: top;\n",
       "    }\n",
       "\n",
       "    .dataframe thead th {\n",
       "        text-align: right;\n",
       "    }\n",
       "</style>\n",
       "<table border=\"1\" class=\"dataframe\">\n",
       "  <thead>\n",
       "    <tr style=\"text-align: right;\">\n",
       "      <th></th>\n",
       "      <th>it</th>\n",
       "      <th>ft</th>\n",
       "      <th>bt</th>\n",
       "      <th>km</th>\n",
       "      <th>transmission</th>\n",
       "      <th>ownerNo</th>\n",
       "      <th>owner</th>\n",
       "      <th>oem</th>\n",
       "      <th>model</th>\n",
       "      <th>modelYear</th>\n",
       "      <th>...</th>\n",
       "      <th>Fuel Suppy System</th>\n",
       "      <th>BoreX Stroke</th>\n",
       "      <th>Compression Ratio</th>\n",
       "      <th>Turning Radius_1</th>\n",
       "      <th>Values per Cylinder</th>\n",
       "      <th>Drive Type_1</th>\n",
       "      <th>Engine Type</th>\n",
       "      <th>Max Torque</th>\n",
       "      <th>Value Configuration</th>\n",
       "      <th>top</th>\n",
       "    </tr>\n",
       "  </thead>\n",
       "  <tbody>\n",
       "    <tr>\n",
       "      <th>0</th>\n",
       "      <td>0</td>\n",
       "      <td>Petrol</td>\n",
       "      <td>Hatchback</td>\n",
       "      <td>1,20,000</td>\n",
       "      <td>Manual</td>\n",
       "      <td>3</td>\n",
       "      <td>3rd Owner</td>\n",
       "      <td>Maruti</td>\n",
       "      <td>Maruti Celerio</td>\n",
       "      <td>2015</td>\n",
       "      <td>...</td>\n",
       "      <td>NaN</td>\n",
       "      <td>NaN</td>\n",
       "      <td>NaN</td>\n",
       "      <td>NaN</td>\n",
       "      <td>NaN</td>\n",
       "      <td>NaN</td>\n",
       "      <td>NaN</td>\n",
       "      <td>NaN</td>\n",
       "      <td>NaN</td>\n",
       "      <td>NaN</td>\n",
       "    </tr>\n",
       "    <tr>\n",
       "      <th>1</th>\n",
       "      <td>0</td>\n",
       "      <td>Petrol</td>\n",
       "      <td>SUV</td>\n",
       "      <td>32,706</td>\n",
       "      <td>Manual</td>\n",
       "      <td>2</td>\n",
       "      <td>2nd Owner</td>\n",
       "      <td>Ford</td>\n",
       "      <td>Ford Ecosport</td>\n",
       "      <td>2018</td>\n",
       "      <td>...</td>\n",
       "      <td>NaN</td>\n",
       "      <td>NaN</td>\n",
       "      <td>NaN</td>\n",
       "      <td>NaN</td>\n",
       "      <td>NaN</td>\n",
       "      <td>NaN</td>\n",
       "      <td>NaN</td>\n",
       "      <td>NaN</td>\n",
       "      <td>NaN</td>\n",
       "      <td>NaN</td>\n",
       "    </tr>\n",
       "    <tr>\n",
       "      <th>2</th>\n",
       "      <td>0</td>\n",
       "      <td>Petrol</td>\n",
       "      <td>Hatchback</td>\n",
       "      <td>11,949</td>\n",
       "      <td>Manual</td>\n",
       "      <td>1</td>\n",
       "      <td>1st Owner</td>\n",
       "      <td>Tata</td>\n",
       "      <td>Tata Tiago</td>\n",
       "      <td>2018</td>\n",
       "      <td>...</td>\n",
       "      <td>NaN</td>\n",
       "      <td>NaN</td>\n",
       "      <td>NaN</td>\n",
       "      <td>NaN</td>\n",
       "      <td>NaN</td>\n",
       "      <td>NaN</td>\n",
       "      <td>NaN</td>\n",
       "      <td>NaN</td>\n",
       "      <td>NaN</td>\n",
       "      <td>NaN</td>\n",
       "    </tr>\n",
       "    <tr>\n",
       "      <th>3</th>\n",
       "      <td>0</td>\n",
       "      <td>Petrol</td>\n",
       "      <td>Sedan</td>\n",
       "      <td>17,794</td>\n",
       "      <td>Manual</td>\n",
       "      <td>1</td>\n",
       "      <td>1st Owner</td>\n",
       "      <td>Hyundai</td>\n",
       "      <td>Hyundai Xcent</td>\n",
       "      <td>2014</td>\n",
       "      <td>...</td>\n",
       "      <td>NaN</td>\n",
       "      <td>NaN</td>\n",
       "      <td>NaN</td>\n",
       "      <td>NaN</td>\n",
       "      <td>NaN</td>\n",
       "      <td>NaN</td>\n",
       "      <td>NaN</td>\n",
       "      <td>NaN</td>\n",
       "      <td>NaN</td>\n",
       "      <td>NaN</td>\n",
       "    </tr>\n",
       "    <tr>\n",
       "      <th>4</th>\n",
       "      <td>0</td>\n",
       "      <td>Diesel</td>\n",
       "      <td>SUV</td>\n",
       "      <td>60,000</td>\n",
       "      <td>Manual</td>\n",
       "      <td>1</td>\n",
       "      <td>1st Owner</td>\n",
       "      <td>Maruti</td>\n",
       "      <td>Maruti SX4 S Cross</td>\n",
       "      <td>2015</td>\n",
       "      <td>...</td>\n",
       "      <td>NaN</td>\n",
       "      <td>NaN</td>\n",
       "      <td>NaN</td>\n",
       "      <td>NaN</td>\n",
       "      <td>NaN</td>\n",
       "      <td>NaN</td>\n",
       "      <td>NaN</td>\n",
       "      <td>NaN</td>\n",
       "      <td>NaN</td>\n",
       "      <td>NaN</td>\n",
       "    </tr>\n",
       "  </tbody>\n",
       "</table>\n",
       "<p>5 rows × 108 columns</p>\n",
       "</div>"
      ],
      "text/plain": [
       "   it      ft         bt        km transmission  ownerNo      owner      oem  \\\n",
       "0   0  Petrol  Hatchback  1,20,000       Manual        3  3rd Owner   Maruti   \n",
       "1   0  Petrol        SUV    32,706       Manual        2  2nd Owner     Ford   \n",
       "2   0  Petrol  Hatchback    11,949       Manual        1  1st Owner     Tata   \n",
       "3   0  Petrol      Sedan    17,794       Manual        1  1st Owner  Hyundai   \n",
       "4   0  Diesel        SUV    60,000       Manual        1  1st Owner   Maruti   \n",
       "\n",
       "                model  modelYear  ...  Fuel Suppy System BoreX Stroke  \\\n",
       "0      Maruti Celerio       2015  ...                NaN          NaN   \n",
       "1       Ford Ecosport       2018  ...                NaN          NaN   \n",
       "2          Tata Tiago       2018  ...                NaN          NaN   \n",
       "3       Hyundai Xcent       2014  ...                NaN          NaN   \n",
       "4  Maruti SX4 S Cross       2015  ...                NaN          NaN   \n",
       "\n",
       "  Compression Ratio Turning Radius_1  Values per Cylinder  Drive Type_1  \\\n",
       "0               NaN              NaN                  NaN           NaN   \n",
       "1               NaN              NaN                  NaN           NaN   \n",
       "2               NaN              NaN                  NaN           NaN   \n",
       "3               NaN              NaN                  NaN           NaN   \n",
       "4               NaN              NaN                  NaN           NaN   \n",
       "\n",
       "  Engine Type Max Torque Value Configuration  top  \n",
       "0         NaN        NaN                 NaN  NaN  \n",
       "1         NaN        NaN                 NaN  NaN  \n",
       "2         NaN        NaN                 NaN  NaN  \n",
       "3         NaN        NaN                 NaN  NaN  \n",
       "4         NaN        NaN                 NaN  NaN  \n",
       "\n",
       "[5 rows x 108 columns]"
      ]
     },
     "execution_count": 1,
     "metadata": {},
     "output_type": "execute_result"
    }
   ],
   "source": [
    "import pandas as pd\n",
    "car_data = pd.read_excel(\"concat_cities_car_data.xlsx\")\n",
    "car_data.head()"
   ]
  },
  {
   "cell_type": "code",
   "execution_count": 2,
   "metadata": {},
   "outputs": [
    {
     "data": {
      "text/plain": [
       "np.int64(84)"
      ]
     },
     "execution_count": 2,
     "metadata": {},
     "output_type": "execute_result"
    }
   ],
   "source": [
    "car_data.duplicated().sum()"
   ]
  },
  {
   "cell_type": "code",
   "execution_count": 3,
   "metadata": {},
   "outputs": [
    {
     "data": {
      "text/html": [
       "<div>\n",
       "<style scoped>\n",
       "    .dataframe tbody tr th:only-of-type {\n",
       "        vertical-align: middle;\n",
       "    }\n",
       "\n",
       "    .dataframe tbody tr th {\n",
       "        vertical-align: top;\n",
       "    }\n",
       "\n",
       "    .dataframe thead th {\n",
       "        text-align: right;\n",
       "    }\n",
       "</style>\n",
       "<table border=\"1\" class=\"dataframe\">\n",
       "  <thead>\n",
       "    <tr style=\"text-align: right;\">\n",
       "      <th></th>\n",
       "      <th>it</th>\n",
       "      <th>ft</th>\n",
       "      <th>bt</th>\n",
       "      <th>km</th>\n",
       "      <th>transmission</th>\n",
       "      <th>ownerNo</th>\n",
       "      <th>owner</th>\n",
       "      <th>oem</th>\n",
       "      <th>model</th>\n",
       "      <th>modelYear</th>\n",
       "      <th>...</th>\n",
       "      <th>Fuel Suppy System</th>\n",
       "      <th>BoreX Stroke</th>\n",
       "      <th>Compression Ratio</th>\n",
       "      <th>Turning Radius_1</th>\n",
       "      <th>Values per Cylinder</th>\n",
       "      <th>Drive Type_1</th>\n",
       "      <th>Engine Type</th>\n",
       "      <th>Max Torque</th>\n",
       "      <th>Value Configuration</th>\n",
       "      <th>top</th>\n",
       "    </tr>\n",
       "  </thead>\n",
       "  <tbody>\n",
       "    <tr>\n",
       "      <th>79</th>\n",
       "      <td>0</td>\n",
       "      <td>Petrol</td>\n",
       "      <td>Hatchback</td>\n",
       "      <td>60,000</td>\n",
       "      <td>Manual</td>\n",
       "      <td>2</td>\n",
       "      <td>2nd Owner</td>\n",
       "      <td>Maruti</td>\n",
       "      <td>Maruti Ritz</td>\n",
       "      <td>2014</td>\n",
       "      <td>...</td>\n",
       "      <td>NaN</td>\n",
       "      <td>NaN</td>\n",
       "      <td>NaN</td>\n",
       "      <td>NaN</td>\n",
       "      <td>NaN</td>\n",
       "      <td>NaN</td>\n",
       "      <td>NaN</td>\n",
       "      <td>NaN</td>\n",
       "      <td>NaN</td>\n",
       "      <td>NaN</td>\n",
       "    </tr>\n",
       "    <tr>\n",
       "      <th>114</th>\n",
       "      <td>0</td>\n",
       "      <td>Petrol</td>\n",
       "      <td>SUV</td>\n",
       "      <td>20,000</td>\n",
       "      <td>Automatic</td>\n",
       "      <td>1</td>\n",
       "      <td>1st Owner</td>\n",
       "      <td>Hyundai</td>\n",
       "      <td>Hyundai Venue</td>\n",
       "      <td>2019</td>\n",
       "      <td>...</td>\n",
       "      <td>NaN</td>\n",
       "      <td>NaN</td>\n",
       "      <td>NaN</td>\n",
       "      <td>NaN</td>\n",
       "      <td>NaN</td>\n",
       "      <td>NaN</td>\n",
       "      <td>NaN</td>\n",
       "      <td>NaN</td>\n",
       "      <td>NaN</td>\n",
       "      <td>NaN</td>\n",
       "    </tr>\n",
       "    <tr>\n",
       "      <th>124</th>\n",
       "      <td>0</td>\n",
       "      <td>Petrol</td>\n",
       "      <td>Hatchback</td>\n",
       "      <td>80,000</td>\n",
       "      <td>Manual</td>\n",
       "      <td>3</td>\n",
       "      <td>3rd Owner</td>\n",
       "      <td>Hyundai</td>\n",
       "      <td>Hyundai i10</td>\n",
       "      <td>2009</td>\n",
       "      <td>...</td>\n",
       "      <td>NaN</td>\n",
       "      <td>NaN</td>\n",
       "      <td>NaN</td>\n",
       "      <td>NaN</td>\n",
       "      <td>NaN</td>\n",
       "      <td>NaN</td>\n",
       "      <td>NaN</td>\n",
       "      <td>NaN</td>\n",
       "      <td>NaN</td>\n",
       "      <td>NaN</td>\n",
       "    </tr>\n",
       "    <tr>\n",
       "      <th>183</th>\n",
       "      <td>0</td>\n",
       "      <td>Petrol</td>\n",
       "      <td>Hatchback</td>\n",
       "      <td>1,20,000</td>\n",
       "      <td>Manual</td>\n",
       "      <td>3</td>\n",
       "      <td>3rd Owner</td>\n",
       "      <td>Maruti</td>\n",
       "      <td>Maruti Celerio</td>\n",
       "      <td>2015</td>\n",
       "      <td>...</td>\n",
       "      <td>NaN</td>\n",
       "      <td>NaN</td>\n",
       "      <td>NaN</td>\n",
       "      <td>NaN</td>\n",
       "      <td>NaN</td>\n",
       "      <td>NaN</td>\n",
       "      <td>NaN</td>\n",
       "      <td>NaN</td>\n",
       "      <td>NaN</td>\n",
       "      <td>NaN</td>\n",
       "    </tr>\n",
       "    <tr>\n",
       "      <th>197</th>\n",
       "      <td>0</td>\n",
       "      <td>Petrol</td>\n",
       "      <td>Sedan</td>\n",
       "      <td>50,000</td>\n",
       "      <td>Manual</td>\n",
       "      <td>1</td>\n",
       "      <td>1st Owner</td>\n",
       "      <td>Fiat</td>\n",
       "      <td>Fiat Linea</td>\n",
       "      <td>2009</td>\n",
       "      <td>...</td>\n",
       "      <td>NaN</td>\n",
       "      <td>NaN</td>\n",
       "      <td>NaN</td>\n",
       "      <td>NaN</td>\n",
       "      <td>NaN</td>\n",
       "      <td>NaN</td>\n",
       "      <td>NaN</td>\n",
       "      <td>NaN</td>\n",
       "      <td>NaN</td>\n",
       "      <td>NaN</td>\n",
       "    </tr>\n",
       "    <tr>\n",
       "      <th>...</th>\n",
       "      <td>...</td>\n",
       "      <td>...</td>\n",
       "      <td>...</td>\n",
       "      <td>...</td>\n",
       "      <td>...</td>\n",
       "      <td>...</td>\n",
       "      <td>...</td>\n",
       "      <td>...</td>\n",
       "      <td>...</td>\n",
       "      <td>...</td>\n",
       "      <td>...</td>\n",
       "      <td>...</td>\n",
       "      <td>...</td>\n",
       "      <td>...</td>\n",
       "      <td>...</td>\n",
       "      <td>...</td>\n",
       "      <td>...</td>\n",
       "      <td>...</td>\n",
       "      <td>...</td>\n",
       "      <td>...</td>\n",
       "      <td>...</td>\n",
       "    </tr>\n",
       "    <tr>\n",
       "      <th>7926</th>\n",
       "      <td>0</td>\n",
       "      <td>Diesel</td>\n",
       "      <td>Hatchback</td>\n",
       "      <td>90,000</td>\n",
       "      <td>Manual</td>\n",
       "      <td>1</td>\n",
       "      <td>1st Owner</td>\n",
       "      <td>Hyundai</td>\n",
       "      <td>Hyundai Grand i10</td>\n",
       "      <td>2014</td>\n",
       "      <td>...</td>\n",
       "      <td>CRDi</td>\n",
       "      <td>NaN</td>\n",
       "      <td>NaN</td>\n",
       "      <td>NaN</td>\n",
       "      <td>4.0</td>\n",
       "      <td>NaN</td>\n",
       "      <td>U2 CRDi  Diesel Engine</td>\n",
       "      <td>160Nm@1500-2750rpm</td>\n",
       "      <td>DOHC</td>\n",
       "      <td>[{'value': 'Power Steering'}, {'value': 'Power...</td>\n",
       "    </tr>\n",
       "    <tr>\n",
       "      <th>8025</th>\n",
       "      <td>0</td>\n",
       "      <td>Petrol</td>\n",
       "      <td>Hatchback</td>\n",
       "      <td>80,000</td>\n",
       "      <td>Manual</td>\n",
       "      <td>4</td>\n",
       "      <td>4th Owner</td>\n",
       "      <td>Maruti</td>\n",
       "      <td>Maruti Swift</td>\n",
       "      <td>2010</td>\n",
       "      <td>...</td>\n",
       "      <td>MPFI</td>\n",
       "      <td>74.0 x 75.5 mm</td>\n",
       "      <td>9:01</td>\n",
       "      <td>NaN</td>\n",
       "      <td>4.0</td>\n",
       "      <td>NaN</td>\n",
       "      <td>In-Line Engine</td>\n",
       "      <td>113Nm @ 4,500rpm</td>\n",
       "      <td>DOHC</td>\n",
       "      <td>[{'value': 'Power Steering'}, {'value': 'Power...</td>\n",
       "    </tr>\n",
       "    <tr>\n",
       "      <th>8133</th>\n",
       "      <td>0</td>\n",
       "      <td>Diesel</td>\n",
       "      <td>Sedan</td>\n",
       "      <td>30,000</td>\n",
       "      <td>Manual</td>\n",
       "      <td>1</td>\n",
       "      <td>1st Owner</td>\n",
       "      <td>Volkswagen</td>\n",
       "      <td>Volkswagen Vento</td>\n",
       "      <td>2014</td>\n",
       "      <td>...</td>\n",
       "      <td>Direct Injection</td>\n",
       "      <td>77 x 80.5 mm</td>\n",
       "      <td>NaN</td>\n",
       "      <td>NaN</td>\n",
       "      <td>4.0</td>\n",
       "      <td>NaN</td>\n",
       "      <td>TDI Diesel Engine</td>\n",
       "      <td>250Nm@1500-2500rpm</td>\n",
       "      <td>DOHC</td>\n",
       "      <td>[{'value': 'Power Steering'}, {'value': 'Power...</td>\n",
       "    </tr>\n",
       "    <tr>\n",
       "      <th>8154</th>\n",
       "      <td>0</td>\n",
       "      <td>Petrol</td>\n",
       "      <td>Minivans</td>\n",
       "      <td>50,000</td>\n",
       "      <td>Manual</td>\n",
       "      <td>3</td>\n",
       "      <td>3rd Owner</td>\n",
       "      <td>Maruti</td>\n",
       "      <td>Maruti Eeco</td>\n",
       "      <td>2010</td>\n",
       "      <td>...</td>\n",
       "      <td>MPFi</td>\n",
       "      <td>NaN</td>\n",
       "      <td>9.9:1</td>\n",
       "      <td>NaN</td>\n",
       "      <td>4.0</td>\n",
       "      <td>NaN</td>\n",
       "      <td>In-Line Engine</td>\n",
       "      <td>101Nm@3000rpm</td>\n",
       "      <td>DOHC</td>\n",
       "      <td>[{'value': 'Low Fuel Warning Light'}, {'value'...</td>\n",
       "    </tr>\n",
       "    <tr>\n",
       "      <th>8339</th>\n",
       "      <td>0</td>\n",
       "      <td>Petrol</td>\n",
       "      <td>Hatchback</td>\n",
       "      <td>10,000</td>\n",
       "      <td>Manual</td>\n",
       "      <td>1</td>\n",
       "      <td>1st Owner</td>\n",
       "      <td>Maruti</td>\n",
       "      <td>Maruti Swift</td>\n",
       "      <td>2021</td>\n",
       "      <td>...</td>\n",
       "      <td>MPFi</td>\n",
       "      <td>73 x 72 mm</td>\n",
       "      <td>NaN</td>\n",
       "      <td>NaN</td>\n",
       "      <td>4.0</td>\n",
       "      <td>NaN</td>\n",
       "      <td>VTVT Engine</td>\n",
       "      <td>113Nm@4200rpm</td>\n",
       "      <td>DOHC</td>\n",
       "      <td>[{'value': 'Power Steering'}, {'value': 'Power...</td>\n",
       "    </tr>\n",
       "  </tbody>\n",
       "</table>\n",
       "<p>84 rows × 108 columns</p>\n",
       "</div>"
      ],
      "text/plain": [
       "      it      ft         bt        km transmission  ownerNo      owner  \\\n",
       "79     0  Petrol  Hatchback    60,000       Manual        2  2nd Owner   \n",
       "114    0  Petrol        SUV    20,000    Automatic        1  1st Owner   \n",
       "124    0  Petrol  Hatchback    80,000       Manual        3  3rd Owner   \n",
       "183    0  Petrol  Hatchback  1,20,000       Manual        3  3rd Owner   \n",
       "197    0  Petrol      Sedan    50,000       Manual        1  1st Owner   \n",
       "...   ..     ...        ...       ...          ...      ...        ...   \n",
       "7926   0  Diesel  Hatchback    90,000       Manual        1  1st Owner   \n",
       "8025   0  Petrol  Hatchback    80,000       Manual        4  4th Owner   \n",
       "8133   0  Diesel      Sedan    30,000       Manual        1  1st Owner   \n",
       "8154   0  Petrol   Minivans    50,000       Manual        3  3rd Owner   \n",
       "8339   0  Petrol  Hatchback    10,000       Manual        1  1st Owner   \n",
       "\n",
       "             oem              model  modelYear  ...  Fuel Suppy System  \\\n",
       "79        Maruti        Maruti Ritz       2014  ...                NaN   \n",
       "114      Hyundai      Hyundai Venue       2019  ...                NaN   \n",
       "124      Hyundai        Hyundai i10       2009  ...                NaN   \n",
       "183       Maruti     Maruti Celerio       2015  ...                NaN   \n",
       "197         Fiat         Fiat Linea       2009  ...                NaN   \n",
       "...          ...                ...        ...  ...                ...   \n",
       "7926     Hyundai  Hyundai Grand i10       2014  ...               CRDi   \n",
       "8025      Maruti       Maruti Swift       2010  ...               MPFI   \n",
       "8133  Volkswagen   Volkswagen Vento       2014  ...   Direct Injection   \n",
       "8154      Maruti        Maruti Eeco       2010  ...               MPFi   \n",
       "8339      Maruti       Maruti Swift       2021  ...               MPFi   \n",
       "\n",
       "        BoreX Stroke Compression Ratio Turning Radius_1  Values per Cylinder  \\\n",
       "79               NaN               NaN              NaN                  NaN   \n",
       "114              NaN               NaN              NaN                  NaN   \n",
       "124              NaN               NaN              NaN                  NaN   \n",
       "183              NaN               NaN              NaN                  NaN   \n",
       "197              NaN               NaN              NaN                  NaN   \n",
       "...              ...               ...              ...                  ...   \n",
       "7926             NaN               NaN              NaN                  4.0   \n",
       "8025  74.0 x 75.5 mm              9:01              NaN                  4.0   \n",
       "8133    77 x 80.5 mm               NaN              NaN                  4.0   \n",
       "8154             NaN             9.9:1              NaN                  4.0   \n",
       "8339      73 x 72 mm               NaN              NaN                  4.0   \n",
       "\n",
       "      Drive Type_1             Engine Type          Max Torque  \\\n",
       "79             NaN                     NaN                 NaN   \n",
       "114            NaN                     NaN                 NaN   \n",
       "124            NaN                     NaN                 NaN   \n",
       "183            NaN                     NaN                 NaN   \n",
       "197            NaN                     NaN                 NaN   \n",
       "...            ...                     ...                 ...   \n",
       "7926           NaN  U2 CRDi  Diesel Engine  160Nm@1500-2750rpm   \n",
       "8025           NaN          In-Line Engine    113Nm @ 4,500rpm   \n",
       "8133           NaN       TDI Diesel Engine  250Nm@1500-2500rpm   \n",
       "8154           NaN          In-Line Engine       101Nm@3000rpm   \n",
       "8339           NaN             VTVT Engine       113Nm@4200rpm   \n",
       "\n",
       "     Value Configuration                                                top  \n",
       "79                   NaN                                                NaN  \n",
       "114                  NaN                                                NaN  \n",
       "124                  NaN                                                NaN  \n",
       "183                  NaN                                                NaN  \n",
       "197                  NaN                                                NaN  \n",
       "...                  ...                                                ...  \n",
       "7926                DOHC  [{'value': 'Power Steering'}, {'value': 'Power...  \n",
       "8025                DOHC  [{'value': 'Power Steering'}, {'value': 'Power...  \n",
       "8133                DOHC  [{'value': 'Power Steering'}, {'value': 'Power...  \n",
       "8154                DOHC  [{'value': 'Low Fuel Warning Light'}, {'value'...  \n",
       "8339                DOHC  [{'value': 'Power Steering'}, {'value': 'Power...  \n",
       "\n",
       "[84 rows x 108 columns]"
      ]
     },
     "execution_count": 3,
     "metadata": {},
     "output_type": "execute_result"
    }
   ],
   "source": [
    "duplicates = car_data.duplicated()\n",
    "car_data[duplicates]"
   ]
  },
  {
   "cell_type": "code",
   "execution_count": 4,
   "metadata": {},
   "outputs": [],
   "source": [
    "car_data = car_data.drop_duplicates()"
   ]
  },
  {
   "cell_type": "code",
   "execution_count": 5,
   "metadata": {},
   "outputs": [
    {
     "data": {
      "text/plain": [
       "np.int64(0)"
      ]
     },
     "execution_count": 5,
     "metadata": {},
     "output_type": "execute_result"
    }
   ],
   "source": [
    "car_data.duplicated().sum()"
   ]
  },
  {
   "cell_type": "code",
   "execution_count": 6,
   "metadata": {},
   "outputs": [
    {
     "data": {
      "text/plain": [
       "priceSaving         8285\n",
       "priceFixedText      8285\n",
       "Steering Type       8257\n",
       "Seating Capacity    8257\n",
       "Tyre Type           8257\n",
       "                    ... \n",
       "oem                    0\n",
       "model                  0\n",
       "modelYear              0\n",
       "centralVariantId       0\n",
       "City                   0\n",
       "Length: 108, dtype: int64"
      ]
     },
     "execution_count": 6,
     "metadata": {},
     "output_type": "execute_result"
    }
   ],
   "source": [
    "missing_counts = car_data.isnull().sum()\n",
    "missing_counts = missing_counts[missing_counts >= 0]\n",
    "missing_counts_sorted = missing_counts.sort_values(ascending=False)\n",
    "missing_counts_sorted"
   ]
  },
  {
   "cell_type": "code",
   "execution_count": 7,
   "metadata": {},
   "outputs": [],
   "source": [
    "missing_percentage = (car_data.isnull().sum() / len(car_data)) * 100\n",
    "threshold = 50\n",
    "columns_to_remove = missing_percentage[missing_percentage > threshold].index\n",
    "car_data_clean = car_data.drop(columns=columns_to_remove)"
   ]
  },
  {
   "cell_type": "code",
   "execution_count": 8,
   "metadata": {},
   "outputs": [
    {
     "name": "stdout",
     "output_type": "stream",
     "text": [
      "Index(['priceActual', 'priceSaving', 'priceFixedText', 'top_feature',\n",
      "       'interior', 'comfort_count', 'Exterior', 'safety_count',\n",
      "       'Entertainment_count', 'Gross Weight', 'Ground Clearance Unladen',\n",
      "       'Seating Capacity', 'Steering Type', 'Tyre Type', 'Alloy Wheel Size',\n",
      "       'No Door Numbers', 'Length_1', 'Width_1', 'Height_1', 'Wheel Base_1',\n",
      "       'Front Tread_1', 'Rear Tread_1', 'Kerb Weight_1', 'Gross Weight_1',\n",
      "       'Ground Clearance Unladen_1', 'Alloy Wheel Size_1',\n",
      "       'Seating Capacity_2', 'Steering Type_2', 'Top Speed', 'Acceleration',\n",
      "       'Tyre Type_2', 'No Door Numbers_2', 'Alloy Wheel Size_2', 'Top Speed_1',\n",
      "       'Acceleration_1', 'Gear Box_1', 'Rear Brake Type_1',\n",
      "       'Front Brake Type_1', 'BoreX Stroke', 'Compression Ratio',\n",
      "       'Turning Radius_1', 'Drive Type_1'],\n",
      "      dtype='object')\n"
     ]
    }
   ],
   "source": [
    "print(columns_to_remove)"
   ]
  },
  {
   "cell_type": "code",
   "execution_count": 9,
   "metadata": {},
   "outputs": [
    {
     "name": "stdout",
     "output_type": "stream",
     "text": [
      "Drive Type             3671\n",
      "Turning Radius         3652\n",
      "Rear Tread             3537\n",
      "Front Tread            3525\n",
      "Value Configuration    3274\n",
      "Steering Type_1        3110\n",
      "Super Charger          3069\n",
      "Tyre Type_1            2993\n",
      "Wheel Size             2961\n",
      "No Door Numbers_1      2948\n",
      "Seating Capacity_1     2944\n",
      "Fuel Suppy System      2881\n",
      "Gear Box               2647\n",
      "Rear Brake Type        2636\n",
      "Front Brake Type       2636\n",
      "Turbo Charger          2303\n",
      "Engine Type            1699\n",
      "Cargo Volumn           1572\n",
      "Max Torque             1510\n",
      "Max Power_1            1510\n",
      "dtype: int64\n",
      "Values per Cylinder    1506\n",
      "No of Cylinder         1491\n",
      "Displacement           1467\n",
      "Color                  1467\n",
      "heading                1466\n",
      "top_features_count     1466\n",
      "top                    1466\n",
      "commonIcon             1466\n",
      "data                   1466\n",
      "RTO                     873\n",
      "Mileage                 285\n",
      "Wheel Base              160\n",
      "Width                    83\n",
      "Height                   79\n",
      "Length                   79\n",
      "Max Power                60\n",
      "Torque                   60\n",
      "Kerb Weight              59\n",
      "Registration Year        52\n",
      "Ownership                32\n",
      "dtype: int64\n",
      "Year of Manufacture    20\n",
      "Seats                   6\n",
      "Seats_1                 6\n",
      "Insurance Validity      4\n",
      "Engine                  4\n",
      "Engine Displacement     4\n",
      "bt                      4\n",
      "Kms Driven              2\n",
      "ft                      0\n",
      "it                      0\n",
      "Fuel Type               0\n",
      "Transmission            0\n",
      "centralVariantId        0\n",
      "km                      0\n",
      "owner                   0\n",
      "oem                     0\n",
      "transmission            0\n",
      "ownerNo                 0\n",
      "modelYear               0\n",
      "model                   0\n",
      "dtype: int64\n",
      "trendingText.desc       0\n",
      "variantName             0\n",
      "trendingText.imgUrl     0\n",
      "price                   0\n",
      "trendingText.heading    0\n",
      "City                    0\n",
      "dtype: int64\n"
     ]
    }
   ],
   "source": [
    "missing_counts = car_data_clean.isnull().sum()\n",
    "missing_counts = missing_counts[missing_counts >= 0]\n",
    "missing_counts_sorted = missing_counts.sort_values(ascending=False)\n",
    "missing_counts_sorted\n",
    "for i in range(0, len(missing_counts_sorted), 20):\n",
    "    print(missing_counts_sorted[i:i+20])"
   ]
  },
  {
   "cell_type": "code",
   "execution_count": 10,
   "metadata": {},
   "outputs": [
    {
     "data": {
      "text/plain": [
       "['it',\n",
       " 'ft',\n",
       " 'bt',\n",
       " 'km',\n",
       " 'transmission',\n",
       " 'ownerNo',\n",
       " 'owner',\n",
       " 'oem',\n",
       " 'model',\n",
       " 'modelYear',\n",
       " 'centralVariantId',\n",
       " 'variantName',\n",
       " 'price',\n",
       " 'trendingText.imgUrl',\n",
       " 'trendingText.heading',\n",
       " 'trendingText.desc',\n",
       " 'Registration Year',\n",
       " 'Insurance Validity',\n",
       " 'Fuel Type',\n",
       " 'Seats',\n",
       " 'Kms Driven',\n",
       " 'RTO',\n",
       " 'Ownership',\n",
       " 'Engine Displacement',\n",
       " 'Transmission',\n",
       " 'Year of Manufacture',\n",
       " 'Mileage',\n",
       " 'Engine',\n",
       " 'Max Power',\n",
       " 'Torque',\n",
       " 'Seats_1',\n",
       " 'Wheel Size',\n",
       " 'Length',\n",
       " 'Width',\n",
       " 'Height',\n",
       " 'Wheel Base',\n",
       " 'Front Tread',\n",
       " 'Rear Tread',\n",
       " 'Kerb Weight',\n",
       " 'Seating Capacity_1',\n",
       " 'Steering Type_1',\n",
       " 'Tyre Type_1',\n",
       " 'No Door Numbers_1',\n",
       " 'Gear Box',\n",
       " 'Drive Type',\n",
       " 'Turning Radius',\n",
       " 'Front Brake Type',\n",
       " 'Rear Brake Type',\n",
       " 'Cargo Volumn',\n",
       " 'City',\n",
       " 'data',\n",
       " 'heading',\n",
       " 'Super Charger',\n",
       " 'Displacement',\n",
       " 'commonIcon',\n",
       " 'Color',\n",
       " 'Turbo Charger',\n",
       " 'Max Power_1',\n",
       " 'top_features_count',\n",
       " 'No of Cylinder',\n",
       " 'Fuel Suppy System',\n",
       " 'Values per Cylinder',\n",
       " 'Engine Type',\n",
       " 'Max Torque',\n",
       " 'Value Configuration',\n",
       " 'top']"
      ]
     },
     "execution_count": 10,
     "metadata": {},
     "output_type": "execute_result"
    }
   ],
   "source": [
    "list(car_data_clean.columns)"
   ]
  },
  {
   "cell_type": "code",
   "execution_count": 11,
   "metadata": {},
   "outputs": [
    {
     "name": "stdout",
     "output_type": "stream",
     "text": [
      "<class 'pandas.core.frame.DataFrame'>\n",
      "Index: 8285 entries, 0 to 8368\n",
      "Data columns (total 66 columns):\n",
      " #   Column                Non-Null Count  Dtype  \n",
      "---  ------                --------------  -----  \n",
      " 0   it                    8285 non-null   int64  \n",
      " 1   ft                    8285 non-null   object \n",
      " 2   bt                    8281 non-null   object \n",
      " 3   km                    8285 non-null   object \n",
      " 4   transmission          8285 non-null   object \n",
      " 5   ownerNo               8285 non-null   int64  \n",
      " 6   owner                 8285 non-null   object \n",
      " 7   oem                   8285 non-null   object \n",
      " 8   model                 8285 non-null   object \n",
      " 9   modelYear             8285 non-null   int64  \n",
      " 10  centralVariantId      8285 non-null   int64  \n",
      " 11  variantName           8285 non-null   object \n",
      " 12  price                 8285 non-null   object \n",
      " 13  trendingText.imgUrl   8285 non-null   object \n",
      " 14  trendingText.heading  8285 non-null   object \n",
      " 15  trendingText.desc     8285 non-null   object \n",
      " 16  Registration Year     8233 non-null   object \n",
      " 17  Insurance Validity    8281 non-null   object \n",
      " 18  Fuel Type             8285 non-null   object \n",
      " 19  Seats                 8279 non-null   object \n",
      " 20  Kms Driven            8283 non-null   object \n",
      " 21  RTO                   7412 non-null   object \n",
      " 22  Ownership             8253 non-null   object \n",
      " 23  Engine Displacement   8281 non-null   object \n",
      " 24  Transmission          8285 non-null   object \n",
      " 25  Year of Manufacture   8265 non-null   float64\n",
      " 26  Mileage               8000 non-null   object \n",
      " 27  Engine                8281 non-null   object \n",
      " 28  Max Power             8225 non-null   object \n",
      " 29  Torque                8225 non-null   object \n",
      " 30  Seats_1               8279 non-null   float64\n",
      " 31  Wheel Size            5324 non-null   object \n",
      " 32  Length                8206 non-null   object \n",
      " 33  Width                 8202 non-null   object \n",
      " 34  Height                8206 non-null   object \n",
      " 35  Wheel Base            8125 non-null   object \n",
      " 36  Front Tread           4760 non-null   object \n",
      " 37  Rear Tread            4748 non-null   object \n",
      " 38  Kerb Weight           8226 non-null   object \n",
      " 39  Seating Capacity_1    5341 non-null   float64\n",
      " 40  Steering Type_1       5175 non-null   object \n",
      " 41  Tyre Type_1           5292 non-null   object \n",
      " 42  No Door Numbers_1     5337 non-null   float64\n",
      " 43  Gear Box              5638 non-null   object \n",
      " 44  Drive Type            4614 non-null   object \n",
      " 45  Turning Radius        4633 non-null   object \n",
      " 46  Front Brake Type      5649 non-null   object \n",
      " 47  Rear Brake Type       5649 non-null   object \n",
      " 48  Cargo Volumn          6713 non-null   object \n",
      " 49  City                  8285 non-null   object \n",
      " 50  data                  6819 non-null   object \n",
      " 51  heading               6819 non-null   object \n",
      " 52  Super Charger         5216 non-null   object \n",
      " 53  Displacement          6818 non-null   float64\n",
      " 54  commonIcon            6819 non-null   object \n",
      " 55  Color                 6818 non-null   object \n",
      " 56  Turbo Charger         5982 non-null   object \n",
      " 57  Max Power_1           6775 non-null   object \n",
      " 58  top_features_count    6819 non-null   float64\n",
      " 59  No of Cylinder        6794 non-null   float64\n",
      " 60  Fuel Suppy System     5404 non-null   object \n",
      " 61  Values per Cylinder   6779 non-null   float64\n",
      " 62  Engine Type           6586 non-null   object \n",
      " 63  Max Torque            6775 non-null   object \n",
      " 64  Value Configuration   5011 non-null   object \n",
      " 65  top                   6819 non-null   object \n",
      "dtypes: float64(8), int64(4), object(54)\n",
      "memory usage: 4.2+ MB\n",
      "None\n"
     ]
    }
   ],
   "source": [
    "print(car_data_clean.info())"
   ]
  },
  {
   "cell_type": "code",
   "execution_count": 12,
   "metadata": {},
   "outputs": [
    {
     "name": "stdout",
     "output_type": "stream",
     "text": [
      "      it      ft         bt        km  ownerNo            oem  \\\n",
      "0      0  Petrol  Hatchback  1,20,000        3         Maruti   \n",
      "1      0  Petrol        SUV    32,706        2           Ford   \n",
      "2      0  Petrol  Hatchback    11,949        1           Tata   \n",
      "3      0  Petrol      Sedan    17,794        1        Hyundai   \n",
      "4      0  Diesel        SUV    60,000        1         Maruti   \n",
      "...   ..     ...        ...       ...      ...            ...   \n",
      "8364   0  Petrol  Hatchback    10,000        1         Maruti   \n",
      "8365   0  Petrol  Hatchback  1,20,000        1         Maruti   \n",
      "8366   0  Petrol      Sedan    50,000        3  Mercedes-Benz   \n",
      "8367   0  Petrol  Hatchback    40,000        1         Maruti   \n",
      "8368   0  Diesel        SUV  1,20,000        2        Renault   \n",
      "\n",
      "                      model  modelYear  centralVariantId  \\\n",
      "0            Maruti Celerio       2015              3979   \n",
      "1             Ford Ecosport       2018              6087   \n",
      "2                Tata Tiago       2018              2983   \n",
      "3             Hyundai Xcent       2014              1867   \n",
      "4        Maruti SX4 S Cross       2015              4277   \n",
      "...                     ...        ...               ...   \n",
      "8364         Maruti Celerio       2022              8682   \n",
      "8365        Maruti Alto 800       2014              3943   \n",
      "8366  Mercedes-Benz C-Class       2011              4672   \n",
      "8367            Maruti Ritz       2012              4144   \n",
      "8368         Renault Duster       2017              5048   \n",
      "\n",
      "                   variantName  ... Turbo Charger        Max Power_1  \\\n",
      "0                          VXI  ...           NaN                NaN   \n",
      "1     1.5 Petrol Titanium BSIV  ...           NaN                NaN   \n",
      "2              1.2 Revotron XZ  ...           NaN                NaN   \n",
      "3           1.2 Kappa S Option  ...           NaN                NaN   \n",
      "4                DDiS 200 Zeta  ...           NaN                NaN   \n",
      "...                        ...  ...           ...                ...   \n",
      "8364                  ZXI BSVI  ...           NaN   65.71bhp@5500rpm   \n",
      "8365                       LXI  ...            No    47.3bhp@6000rpm   \n",
      "8366        C 200 CGI Elegance  ...            No     186bhp@5600rpm   \n",
      "8367                       ZXi  ...            No   85.80bhp@6000rpm   \n",
      "8368      110PS Diesel RxZ AWD  ...           Yes  108.45bhp@4000rpm   \n",
      "\n",
      "     top_features_count No of Cylinder Fuel Suppy System Values per Cylinder  \\\n",
      "0                   NaN            NaN               NaN                 NaN   \n",
      "1                   NaN            NaN               NaN                 NaN   \n",
      "2                   NaN            NaN               NaN                 NaN   \n",
      "3                   NaN            NaN               NaN                 NaN   \n",
      "4                   NaN            NaN               NaN                 NaN   \n",
      "...                 ...            ...               ...                 ...   \n",
      "8364                9.0            3.0               NaN                 4.0   \n",
      "8365                8.0            3.0              MPFi                 4.0   \n",
      "8366                9.0            4.0              Mpfi                 4.0   \n",
      "8367                9.0            4.0              MPFI                 4.0   \n",
      "8368                9.0            4.0              CRDi                 4.0   \n",
      "\n",
      "                 Engine Type          Max Torque Value Configuration  \\\n",
      "0                        NaN                 NaN                 NaN   \n",
      "1                        NaN                 NaN                 NaN   \n",
      "2                        NaN                 NaN                 NaN   \n",
      "3                        NaN                 NaN                 NaN   \n",
      "4                        NaN                 NaN                 NaN   \n",
      "...                      ...                 ...                 ...   \n",
      "8364                    K10C        89Nm@3500rpm                 NaN   \n",
      "8365       F8D Petrol Engine        69Nm@3500rpm                DOHC   \n",
      "8366  Blue Efficiency Engine  285Nm@2400-4000rpm                 NaN   \n",
      "8367  K Series Petrol Engine       114Nm@4000rpm                DOHC   \n",
      "8368   dCi THP Diesel Engine       245Nm@1750rpm                DOHC   \n",
      "\n",
      "                                                    top  \n",
      "0                                                   NaN  \n",
      "1                                                   NaN  \n",
      "2                                                   NaN  \n",
      "3                                                   NaN  \n",
      "4                                                   NaN  \n",
      "...                                                 ...  \n",
      "8364  [{'value': 'Power Steering'}, {'value': 'Power...  \n",
      "8365  [{'value': 'Power Steering'}, {'value': 'Power...  \n",
      "8366  [{'value': 'Power Steering'}, {'value': 'Power...  \n",
      "8367  [{'value': 'Power Steering'}, {'value': 'Power...  \n",
      "8368  [{'value': 'Power Steering'}, {'value': 'Power...  \n",
      "\n",
      "[8285 rows x 55 columns]\n"
     ]
    }
   ],
   "source": [
    "columns_to_delete = ['Kms Driven','transmission','owner','Ownership','trendingText.imgUrl','trendingText.heading','trendingText.desc',\n",
    "                     'Registration Year','Year of Manufacture','Engine Displacement','Seats']\n",
    "car_data_clean = car_data_clean.drop(columns=columns_to_delete)\n",
    "\n",
    "print(car_data_clean)"
   ]
  },
  {
   "cell_type": "code",
   "execution_count": 13,
   "metadata": {},
   "outputs": [
    {
     "name": "stdout",
     "output_type": "stream",
     "text": [
      "<class 'pandas.core.frame.DataFrame'>\n",
      "Index: 8285 entries, 0 to 8368\n",
      "Data columns (total 55 columns):\n",
      " #   Column               Non-Null Count  Dtype  \n",
      "---  ------               --------------  -----  \n",
      " 0   it                   8285 non-null   int64  \n",
      " 1   ft                   8285 non-null   object \n",
      " 2   bt                   8281 non-null   object \n",
      " 3   km                   8285 non-null   object \n",
      " 4   ownerNo              8285 non-null   int64  \n",
      " 5   oem                  8285 non-null   object \n",
      " 6   model                8285 non-null   object \n",
      " 7   modelYear            8285 non-null   int64  \n",
      " 8   centralVariantId     8285 non-null   int64  \n",
      " 9   variantName          8285 non-null   object \n",
      " 10  price                8285 non-null   object \n",
      " 11  Insurance Validity   8281 non-null   object \n",
      " 12  Fuel Type            8285 non-null   object \n",
      " 13  RTO                  7412 non-null   object \n",
      " 14  Transmission         8285 non-null   object \n",
      " 15  Mileage              8000 non-null   object \n",
      " 16  Engine               8281 non-null   object \n",
      " 17  Max Power            8225 non-null   object \n",
      " 18  Torque               8225 non-null   object \n",
      " 19  Seats_1              8279 non-null   float64\n",
      " 20  Wheel Size           5324 non-null   object \n",
      " 21  Length               8206 non-null   object \n",
      " 22  Width                8202 non-null   object \n",
      " 23  Height               8206 non-null   object \n",
      " 24  Wheel Base           8125 non-null   object \n",
      " 25  Front Tread          4760 non-null   object \n",
      " 26  Rear Tread           4748 non-null   object \n",
      " 27  Kerb Weight          8226 non-null   object \n",
      " 28  Seating Capacity_1   5341 non-null   float64\n",
      " 29  Steering Type_1      5175 non-null   object \n",
      " 30  Tyre Type_1          5292 non-null   object \n",
      " 31  No Door Numbers_1    5337 non-null   float64\n",
      " 32  Gear Box             5638 non-null   object \n",
      " 33  Drive Type           4614 non-null   object \n",
      " 34  Turning Radius       4633 non-null   object \n",
      " 35  Front Brake Type     5649 non-null   object \n",
      " 36  Rear Brake Type      5649 non-null   object \n",
      " 37  Cargo Volumn         6713 non-null   object \n",
      " 38  City                 8285 non-null   object \n",
      " 39  data                 6819 non-null   object \n",
      " 40  heading              6819 non-null   object \n",
      " 41  Super Charger        5216 non-null   object \n",
      " 42  Displacement         6818 non-null   float64\n",
      " 43  commonIcon           6819 non-null   object \n",
      " 44  Color                6818 non-null   object \n",
      " 45  Turbo Charger        5982 non-null   object \n",
      " 46  Max Power_1          6775 non-null   object \n",
      " 47  top_features_count   6819 non-null   float64\n",
      " 48  No of Cylinder       6794 non-null   float64\n",
      " 49  Fuel Suppy System    5404 non-null   object \n",
      " 50  Values per Cylinder  6779 non-null   float64\n",
      " 51  Engine Type          6586 non-null   object \n",
      " 52  Max Torque           6775 non-null   object \n",
      " 53  Value Configuration  5011 non-null   object \n",
      " 54  top                  6819 non-null   object \n",
      "dtypes: float64(7), int64(4), object(44)\n",
      "memory usage: 3.5+ MB\n",
      "None\n"
     ]
    }
   ],
   "source": [
    "print(car_data_clean.info())"
   ]
  },
  {
   "cell_type": "code",
   "execution_count": 14,
   "metadata": {},
   "outputs": [
    {
     "name": "stdout",
     "output_type": "stream",
     "text": [
      "          ft         bt        km  ownerNo            oem  \\\n",
      "0     Petrol  Hatchback  1,20,000        3         Maruti   \n",
      "1     Petrol        SUV    32,706        2           Ford   \n",
      "2     Petrol  Hatchback    11,949        1           Tata   \n",
      "3     Petrol      Sedan    17,794        1        Hyundai   \n",
      "4     Diesel        SUV    60,000        1         Maruti   \n",
      "...      ...        ...       ...      ...            ...   \n",
      "8364  Petrol  Hatchback    10,000        1         Maruti   \n",
      "8365  Petrol  Hatchback  1,20,000        1         Maruti   \n",
      "8366  Petrol      Sedan    50,000        3  Mercedes-Benz   \n",
      "8367  Petrol  Hatchback    40,000        1         Maruti   \n",
      "8368  Diesel        SUV  1,20,000        2        Renault   \n",
      "\n",
      "                      model  modelYear               variantName        price  \\\n",
      "0            Maruti Celerio       2015                       VXI     ₹ 4 Lakh   \n",
      "1             Ford Ecosport       2018  1.5 Petrol Titanium BSIV  ₹ 8.11 Lakh   \n",
      "2                Tata Tiago       2018           1.2 Revotron XZ  ₹ 5.85 Lakh   \n",
      "3             Hyundai Xcent       2014        1.2 Kappa S Option  ₹ 4.62 Lakh   \n",
      "4        Maruti SX4 S Cross       2015             DDiS 200 Zeta  ₹ 7.90 Lakh   \n",
      "...                     ...        ...                       ...          ...   \n",
      "8364         Maruti Celerio       2022                  ZXI BSVI  ₹ 5.10 Lakh   \n",
      "8365        Maruti Alto 800       2014                       LXI  ₹ 1.80 Lakh   \n",
      "8366  Mercedes-Benz C-Class       2011        C 200 CGI Elegance  ₹ 5.50 Lakh   \n",
      "8367            Maruti Ritz       2012                       ZXi  ₹ 1.40 Lakh   \n",
      "8368         Renault Duster       2017      110PS Diesel RxZ AWD     ₹ 5 Lakh   \n",
      "\n",
      "         Insurance Validity  ...  Length   Width  Height  Gear Box       City  \\\n",
      "0     Third Party insurance  ...  3715mm  1635mm  1565mm  5 Speed   Bangalore   \n",
      "1             Comprehensive  ...  3998mm  1765mm  1647mm   5 Speed  Bangalore   \n",
      "2             Comprehensive  ...  3746mm  1647mm  1535mm   5 Speed  Bangalore   \n",
      "3             Comprehensive  ...  3995mm  1660mm  1520mm  5 Speed   Bangalore   \n",
      "4     Third Party insurance  ...  4300mm  1785mm  1595mm   5 Speed  Bangalore   \n",
      "...                     ...  ...     ...     ...     ...       ...        ...   \n",
      "8364  Third Party insurance  ...  3695mm    1655    1555   5-Speed    Kolkata   \n",
      "8365  Third Party insurance  ...  3395mm  1490mm  1475mm   5 Speed    Kolkata   \n",
      "8366  Third Party insurance  ...  4591mm  1770mm  1447mm   7 Speed    Kolkata   \n",
      "8367  Third Party insurance  ...  3775mm  1680mm  1620mm   5 Speed    Kolkata   \n",
      "8368  Third Party insurance  ...  4315mm  1822mm  1695mm   6 Speed    Kolkata   \n",
      "\n",
      "       Color        Max Power_1  top_features_count No of Cylinder  \\\n",
      "0        NaN                NaN                 NaN            NaN   \n",
      "1        NaN                NaN                 NaN            NaN   \n",
      "2        NaN                NaN                 NaN            NaN   \n",
      "3        NaN                NaN                 NaN            NaN   \n",
      "4        NaN                NaN                 NaN            NaN   \n",
      "...      ...                ...                 ...            ...   \n",
      "8364  Others   65.71bhp@5500rpm                 9.0            3.0   \n",
      "8365  Others    47.3bhp@6000rpm                 8.0            3.0   \n",
      "8366  Others     186bhp@5600rpm                 9.0            4.0   \n",
      "8367  Others   85.80bhp@6000rpm                 9.0            4.0   \n",
      "8368  Others  108.45bhp@4000rpm                 9.0            4.0   \n",
      "\n",
      "                 Engine Type  \n",
      "0                        NaN  \n",
      "1                        NaN  \n",
      "2                        NaN  \n",
      "3                        NaN  \n",
      "4                        NaN  \n",
      "...                      ...  \n",
      "8364                    K10C  \n",
      "8365       F8D Petrol Engine  \n",
      "8366  Blue Efficiency Engine  \n",
      "8367  K Series Petrol Engine  \n",
      "8368   dCi THP Diesel Engine  \n",
      "\n",
      "[8285 rows x 28 columns]\n"
     ]
    }
   ],
   "source": [
    "columns_to_delete = ['centralVariantId','Wheel Size', 'Wheel Base','it',\n",
    "   'Front Tread', \n",
    "   'Rear Tread', \n",
    "   'Kerb Weight',\n",
    "    'Seating Capacity_1',\n",
    "  'Steering Type_1',\n",
    "  'Tyre Type_1',\n",
    "  'No Door Numbers_1',\n",
    "   'Drive Type',\n",
    "   'Turning Radius' ,  \n",
    "   'Front Brake Type',  \n",
    " 'Rear Brake Type',     \n",
    " 'Cargo Volumn',\n",
    " 'Super Charger',\n",
    "\n",
    "  'Values per Cylinder',\n",
    "   'Value Configuration',\n",
    " 'Fuel Suppy System',\n",
    " 'commonIcon',\n",
    " 'data',\n",
    " 'heading','Max Torque','Displacement','top', 'Turbo Charger' \n",
    "   \n",
    "   ]\n",
    "car_data_clean = car_data_clean.drop(columns=columns_to_delete)\n",
    "\n",
    "print(car_data_clean)"
   ]
  },
  {
   "cell_type": "code",
   "execution_count": 15,
   "metadata": {},
   "outputs": [
    {
     "name": "stdout",
     "output_type": "stream",
     "text": [
      "28\n"
     ]
    }
   ],
   "source": [
    "print(len(car_data_clean.columns))"
   ]
  },
  {
   "cell_type": "code",
   "execution_count": 16,
   "metadata": {},
   "outputs": [
    {
     "name": "stdout",
     "output_type": "stream",
     "text": [
      "          ft         bt        km  ownerNo            oem  \\\n",
      "0     Petrol  Hatchback  1,20,000        3         Maruti   \n",
      "1     Petrol        SUV    32,706        2           Ford   \n",
      "2     Petrol  Hatchback    11,949        1           Tata   \n",
      "3     Petrol      Sedan    17,794        1        Hyundai   \n",
      "4     Diesel        SUV    60,000        1         Maruti   \n",
      "...      ...        ...       ...      ...            ...   \n",
      "8364  Petrol  Hatchback    10,000        1         Maruti   \n",
      "8365  Petrol  Hatchback  1,20,000        1         Maruti   \n",
      "8366  Petrol      Sedan    50,000        3  Mercedes-Benz   \n",
      "8367  Petrol  Hatchback    40,000        1         Maruti   \n",
      "8368  Diesel        SUV  1,20,000        2        Renault   \n",
      "\n",
      "                      model  modelYear               variantName        price  \\\n",
      "0            Maruti Celerio       2015                       VXI     ₹ 4 Lakh   \n",
      "1             Ford Ecosport       2018  1.5 Petrol Titanium BSIV  ₹ 8.11 Lakh   \n",
      "2                Tata Tiago       2018           1.2 Revotron XZ  ₹ 5.85 Lakh   \n",
      "3             Hyundai Xcent       2014        1.2 Kappa S Option  ₹ 4.62 Lakh   \n",
      "4        Maruti SX4 S Cross       2015             DDiS 200 Zeta  ₹ 7.90 Lakh   \n",
      "...                     ...        ...                       ...          ...   \n",
      "8364         Maruti Celerio       2022                  ZXI BSVI  ₹ 5.10 Lakh   \n",
      "8365        Maruti Alto 800       2014                       LXI  ₹ 1.80 Lakh   \n",
      "8366  Mercedes-Benz C-Class       2011        C 200 CGI Elegance  ₹ 5.50 Lakh   \n",
      "8367            Maruti Ritz       2012                       ZXi  ₹ 1.40 Lakh   \n",
      "8368         Renault Duster       2017      110PS Diesel RxZ AWD     ₹ 5 Lakh   \n",
      "\n",
      "         Insurance Validity  ...    Torque Seats_1  Length   Width  Height  \\\n",
      "0     Third Party insurance  ...      90Nm     5.0  3715mm  1635mm  1565mm   \n",
      "1             Comprehensive  ...     150Nm     5.0  3998mm  1765mm  1647mm   \n",
      "2             Comprehensive  ...     114Nm     5.0  3746mm  1647mm  1535mm   \n",
      "3             Comprehensive  ...  113.75Nm     5.0  3995mm  1660mm  1520mm   \n",
      "4     Third Party insurance  ...     200Nm     5.0  4300mm  1785mm  1595mm   \n",
      "...                     ...  ...       ...     ...     ...     ...     ...   \n",
      "8364  Third Party insurance  ...      89Nm     5.0  3695mm    1655    1555   \n",
      "8365  Third Party insurance  ...      69Nm     5.0  3395mm  1490mm  1475mm   \n",
      "8366  Third Party insurance  ...     285Nm     5.0  4591mm  1770mm  1447mm   \n",
      "8367  Third Party insurance  ...     114Nm     5.0  3775mm  1680mm  1620mm   \n",
      "8368  Third Party insurance  ...     245Nm     5.0  4315mm  1822mm  1695mm   \n",
      "\n",
      "      Gear Box       City   Color top_features_count No of Cylinder  \n",
      "0     5 Speed   Bangalore     NaN                NaN            NaN  \n",
      "1      5 Speed  Bangalore     NaN                NaN            NaN  \n",
      "2      5 Speed  Bangalore     NaN                NaN            NaN  \n",
      "3     5 Speed   Bangalore     NaN                NaN            NaN  \n",
      "4      5 Speed  Bangalore     NaN                NaN            NaN  \n",
      "...        ...        ...     ...                ...            ...  \n",
      "8364   5-Speed    Kolkata  Others                9.0            3.0  \n",
      "8365   5 Speed    Kolkata  Others                8.0            3.0  \n",
      "8366   7 Speed    Kolkata  Others                9.0            4.0  \n",
      "8367   5 Speed    Kolkata  Others                9.0            4.0  \n",
      "8368   6 Speed    Kolkata  Others                9.0            4.0  \n",
      "\n",
      "[8285 rows x 26 columns]\n"
     ]
    }
   ],
   "source": [
    "columns_to_delete = ['Max Power_1','Engine Type']\n",
    "car_data_clean = car_data_clean.drop(columns=columns_to_delete)\n",
    "\n",
    "print(car_data_clean)"
   ]
  },
  {
   "cell_type": "code",
   "execution_count": 17,
   "metadata": {},
   "outputs": [
    {
     "name": "stdout",
     "output_type": "stream",
     "text": [
      "<class 'pandas.core.frame.DataFrame'>\n",
      "Index: 8285 entries, 0 to 8368\n",
      "Data columns (total 26 columns):\n",
      " #   Column              Non-Null Count  Dtype  \n",
      "---  ------              --------------  -----  \n",
      " 0   ft                  8285 non-null   object \n",
      " 1   bt                  8281 non-null   object \n",
      " 2   km                  8285 non-null   object \n",
      " 3   ownerNo             8285 non-null   int64  \n",
      " 4   oem                 8285 non-null   object \n",
      " 5   model               8285 non-null   object \n",
      " 6   modelYear           8285 non-null   int64  \n",
      " 7   variantName         8285 non-null   object \n",
      " 8   price               8285 non-null   object \n",
      " 9   Insurance Validity  8281 non-null   object \n",
      " 10  Fuel Type           8285 non-null   object \n",
      " 11  RTO                 7412 non-null   object \n",
      " 12  Transmission        8285 non-null   object \n",
      " 13  Mileage             8000 non-null   object \n",
      " 14  Engine              8281 non-null   object \n",
      " 15  Max Power           8225 non-null   object \n",
      " 16  Torque              8225 non-null   object \n",
      " 17  Seats_1             8279 non-null   float64\n",
      " 18  Length              8206 non-null   object \n",
      " 19  Width               8202 non-null   object \n",
      " 20  Height              8206 non-null   object \n",
      " 21  Gear Box            5638 non-null   object \n",
      " 22  City                8285 non-null   object \n",
      " 23  Color               6818 non-null   object \n",
      " 24  top_features_count  6819 non-null   float64\n",
      " 25  No of Cylinder      6794 non-null   float64\n",
      "dtypes: float64(3), int64(2), object(21)\n",
      "memory usage: 1.7+ MB\n",
      "None\n"
     ]
    }
   ],
   "source": [
    "print(car_data_clean.info())"
   ]
  },
  {
   "cell_type": "code",
   "execution_count": 18,
   "metadata": {},
   "outputs": [
    {
     "data": {
      "text/plain": [
       "ft                       0\n",
       "bt                       4\n",
       "km                       0\n",
       "ownerNo                  0\n",
       "oem                      0\n",
       "model                    0\n",
       "modelYear                0\n",
       "variantName              0\n",
       "price                    0\n",
       "Insurance Validity       4\n",
       "Fuel Type                0\n",
       "RTO                    873\n",
       "Transmission             0\n",
       "Mileage                285\n",
       "Engine                   4\n",
       "Max Power               60\n",
       "Torque                  60\n",
       "Seats_1                  6\n",
       "Length                  79\n",
       "Width                   83\n",
       "Height                  79\n",
       "Gear Box              2647\n",
       "City                     0\n",
       "Color                 1467\n",
       "top_features_count    1466\n",
       "No of Cylinder        1491\n",
       "dtype: int64"
      ]
     },
     "execution_count": 18,
     "metadata": {},
     "output_type": "execute_result"
    }
   ],
   "source": [
    "car_data_clean.isnull().sum()"
   ]
  },
  {
   "cell_type": "code",
   "execution_count": 19,
   "metadata": {},
   "outputs": [],
   "source": [
    "import pandas as pd\n",
    "car_data_clean['km'] = car_data_clean['km'].str.replace(\",\", \"\").astype(int)"
   ]
  },
  {
   "cell_type": "code",
   "execution_count": 20,
   "metadata": {},
   "outputs": [
    {
     "name": "stdout",
     "output_type": "stream",
     "text": [
      "          ft         bt      km  ownerNo            oem  \\\n",
      "0     Petrol  Hatchback  120000        3         Maruti   \n",
      "1     Petrol        SUV   32706        2           Ford   \n",
      "2     Petrol  Hatchback   11949        1           Tata   \n",
      "3     Petrol      Sedan   17794        1        Hyundai   \n",
      "4     Diesel        SUV   60000        1         Maruti   \n",
      "...      ...        ...     ...      ...            ...   \n",
      "8364  Petrol  Hatchback   10000        1         Maruti   \n",
      "8365  Petrol  Hatchback  120000        1         Maruti   \n",
      "8366  Petrol      Sedan   50000        3  Mercedes-Benz   \n",
      "8367  Petrol  Hatchback   40000        1         Maruti   \n",
      "8368  Diesel        SUV  120000        2        Renault   \n",
      "\n",
      "                      model  modelYear               variantName     price  \\\n",
      "0            Maruti Celerio       2015                       VXI  400000.0   \n",
      "1             Ford Ecosport       2018  1.5 Petrol Titanium BSIV  811000.0   \n",
      "2                Tata Tiago       2018           1.2 Revotron XZ  585000.0   \n",
      "3             Hyundai Xcent       2014        1.2 Kappa S Option  462000.0   \n",
      "4        Maruti SX4 S Cross       2015             DDiS 200 Zeta  790000.0   \n",
      "...                     ...        ...                       ...       ...   \n",
      "8364         Maruti Celerio       2022                  ZXI BSVI  510000.0   \n",
      "8365        Maruti Alto 800       2014                       LXI  180000.0   \n",
      "8366  Mercedes-Benz C-Class       2011        C 200 CGI Elegance  550000.0   \n",
      "8367            Maruti Ritz       2012                       ZXi  140000.0   \n",
      "8368         Renault Duster       2017      110PS Diesel RxZ AWD  500000.0   \n",
      "\n",
      "         Insurance Validity  ...    Torque Seats_1  Length   Width  Height  \\\n",
      "0     Third Party insurance  ...      90Nm     5.0  3715mm  1635mm  1565mm   \n",
      "1             Comprehensive  ...     150Nm     5.0  3998mm  1765mm  1647mm   \n",
      "2             Comprehensive  ...     114Nm     5.0  3746mm  1647mm  1535mm   \n",
      "3             Comprehensive  ...  113.75Nm     5.0  3995mm  1660mm  1520mm   \n",
      "4     Third Party insurance  ...     200Nm     5.0  4300mm  1785mm  1595mm   \n",
      "...                     ...  ...       ...     ...     ...     ...     ...   \n",
      "8364  Third Party insurance  ...      89Nm     5.0  3695mm    1655    1555   \n",
      "8365  Third Party insurance  ...      69Nm     5.0  3395mm  1490mm  1475mm   \n",
      "8366  Third Party insurance  ...     285Nm     5.0  4591mm  1770mm  1447mm   \n",
      "8367  Third Party insurance  ...     114Nm     5.0  3775mm  1680mm  1620mm   \n",
      "8368  Third Party insurance  ...     245Nm     5.0  4315mm  1822mm  1695mm   \n",
      "\n",
      "      Gear Box       City   Color top_features_count No of Cylinder  \n",
      "0     5 Speed   Bangalore     NaN                NaN            NaN  \n",
      "1      5 Speed  Bangalore     NaN                NaN            NaN  \n",
      "2      5 Speed  Bangalore     NaN                NaN            NaN  \n",
      "3     5 Speed   Bangalore     NaN                NaN            NaN  \n",
      "4      5 Speed  Bangalore     NaN                NaN            NaN  \n",
      "...        ...        ...     ...                ...            ...  \n",
      "8364   5-Speed    Kolkata  Others                9.0            3.0  \n",
      "8365   5 Speed    Kolkata  Others                8.0            3.0  \n",
      "8366   7 Speed    Kolkata  Others                9.0            4.0  \n",
      "8367   5 Speed    Kolkata  Others                9.0            4.0  \n",
      "8368   6 Speed    Kolkata  Others                9.0            4.0  \n",
      "\n",
      "[8285 rows x 26 columns]\n"
     ]
    }
   ],
   "source": [
    "\n",
    "def clean_price(value):\n",
    "    value = value.replace(\"₹\", \"\").strip()\n",
    "    if \"Lakh\" in value:\n",
    "        return float(value.replace(\"Lakh\", \"\").strip()) * 100000 \n",
    "    elif \"Crore\" in value:\n",
    "        return float(value.replace(\"Crore\", \"\").strip()) * 10000000  \n",
    "    elif \"Thousand\" in value:\n",
    "        return float(value.replace(\"Thousand\", \"\").strip()) * 1000  \n",
    "    else:\n",
    "        return float(value.replace(\",\", \"\"))  \n",
    "\n",
    "\n",
    "car_data_clean['price'] = car_data_clean['price'].apply(clean_price)\n",
    "print(car_data_clean)"
   ]
  },
  {
   "cell_type": "code",
   "execution_count": 21,
   "metadata": {},
   "outputs": [
    {
     "name": "stdout",
     "output_type": "stream",
     "text": [
      "0       23.0\n",
      "1       17.0\n",
      "2       23.0\n",
      "3       19.0\n",
      "4       23.0\n",
      "        ... \n",
      "8364    25.0\n",
      "8365    22.0\n",
      "8366    11.0\n",
      "8367    18.0\n",
      "8368    19.0\n",
      "Name: Mileage, Length: 8285, dtype: float64\n"
     ]
    }
   ],
   "source": [
    "import re\n",
    "\n",
    "def mileage(value):\n",
    "    if value is None:\n",
    "        return None \n",
    "    \n",
    "    match = re.match(r\"^\\d+(\\.\\d+)?\", str(value))\n",
    "    \n",
    "    if match:\n",
    "        return int(float(match.group()))  \n",
    "    else:\n",
    "        return None \n",
    "\n",
    "\n",
    "car_data_clean['Mileage'] = car_data_clean['Mileage'].apply(mileage)\n",
    "\n",
    "\n",
    "print(car_data_clean['Mileage'])\n"
   ]
  },
  {
   "cell_type": "code",
   "execution_count": 22,
   "metadata": {},
   "outputs": [],
   "source": [
    "car_data_clean['Engine'] = car_data_clean['Engine'].str.replace(\"CC\", \"\").astype(float, errors='ignore')\n"
   ]
  },
  {
   "cell_type": "code",
   "execution_count": 23,
   "metadata": {},
   "outputs": [
    {
     "name": "stdout",
     "output_type": "stream",
     "text": [
      "0        67.04\n",
      "1       121.31\n",
      "2        84.00\n",
      "3        81.86\n",
      "4        88.50\n",
      "         ...  \n",
      "8364     65.71\n",
      "8365     47.30\n",
      "8366    186.00\n",
      "8367     85.80\n",
      "8368    108.45\n",
      "Name: Max Power, Length: 8285, dtype: float64\n"
     ]
    }
   ],
   "source": [
    "import re\n",
    "\n",
    "def extract_numeric(value):\n",
    "    match = re.match(r\"^\\d+(\\.\\d+)?\", str(value)) \n",
    "    if match:\n",
    "        return float(match.group())  \n",
    "    else:\n",
    "        return None \n",
    "\n",
    "\n",
    "car_data_clean['Max Power'] = car_data_clean['Max Power'].apply(extract_numeric)\n",
    "\n",
    "print(car_data_clean['Max Power'])\n"
   ]
  },
  {
   "cell_type": "code",
   "execution_count": 24,
   "metadata": {},
   "outputs": [],
   "source": [
    "car_data_clean['Torque'] = car_data_clean['Torque'].apply(extract_numeric)\n",
    "car_data_clean['Length'] = car_data_clean['Length'].apply(extract_numeric)\n",
    "car_data_clean['Width'] = car_data_clean['Width'].apply(extract_numeric)\n",
    "car_data_clean['Height'] = car_data_clean['Height'].apply(extract_numeric)\n",
    "car_data_clean['Gear Box'] = car_data_clean['Gear Box'].apply(extract_numeric)"
   ]
  },
  {
   "cell_type": "code",
   "execution_count": 25,
   "metadata": {},
   "outputs": [
    {
     "name": "stdout",
     "output_type": "stream",
     "text": [
      "<class 'pandas.core.frame.DataFrame'>\n",
      "Index: 8285 entries, 0 to 8368\n",
      "Data columns (total 26 columns):\n",
      " #   Column              Non-Null Count  Dtype  \n",
      "---  ------              --------------  -----  \n",
      " 0   ft                  8285 non-null   object \n",
      " 1   bt                  8281 non-null   object \n",
      " 2   km                  8285 non-null   int64  \n",
      " 3   ownerNo             8285 non-null   int64  \n",
      " 4   oem                 8285 non-null   object \n",
      " 5   model               8285 non-null   object \n",
      " 6   modelYear           8285 non-null   int64  \n",
      " 7   variantName         8285 non-null   object \n",
      " 8   price               8285 non-null   float64\n",
      " 9   Insurance Validity  8281 non-null   object \n",
      " 10  Fuel Type           8285 non-null   object \n",
      " 11  RTO                 7412 non-null   object \n",
      " 12  Transmission        8285 non-null   object \n",
      " 13  Mileage             8000 non-null   float64\n",
      " 14  Engine              8281 non-null   float64\n",
      " 15  Max Power           8225 non-null   float64\n",
      " 16  Torque              8225 non-null   float64\n",
      " 17  Seats_1             8279 non-null   float64\n",
      " 18  Length              8206 non-null   float64\n",
      " 19  Width               8202 non-null   float64\n",
      " 20  Height              8206 non-null   float64\n",
      " 21  Gear Box            5472 non-null   float64\n",
      " 22  City                8285 non-null   object \n",
      " 23  Color               6818 non-null   object \n",
      " 24  top_features_count  6819 non-null   float64\n",
      " 25  No of Cylinder      6794 non-null   float64\n",
      "dtypes: float64(12), int64(3), object(11)\n",
      "memory usage: 1.7+ MB\n",
      "None\n"
     ]
    }
   ],
   "source": [
    "print(car_data_clean.info())"
   ]
  },
  {
   "cell_type": "code",
   "execution_count": 26,
   "metadata": {},
   "outputs": [
    {
     "data": {
      "text/plain": [
       "ft                       0\n",
       "bt                       4\n",
       "km                       0\n",
       "ownerNo                  0\n",
       "oem                      0\n",
       "model                    0\n",
       "modelYear                0\n",
       "variantName              0\n",
       "price                    0\n",
       "Insurance Validity       4\n",
       "Fuel Type                0\n",
       "RTO                    873\n",
       "Transmission             0\n",
       "Mileage                285\n",
       "Engine                   4\n",
       "Max Power               60\n",
       "Torque                  60\n",
       "Seats_1                  6\n",
       "Length                  79\n",
       "Width                   83\n",
       "Height                  79\n",
       "Gear Box              2813\n",
       "City                     0\n",
       "Color                 1467\n",
       "top_features_count    1466\n",
       "No of Cylinder        1491\n",
       "dtype: int64"
      ]
     },
     "execution_count": 26,
     "metadata": {},
     "output_type": "execute_result"
    }
   ],
   "source": [
    "car_data_clean.isnull().sum()"
   ]
  },
  {
   "cell_type": "code",
   "execution_count": 27,
   "metadata": {},
   "outputs": [
    {
     "name": "stderr",
     "output_type": "stream",
     "text": [
      "C:\\Users\\rs\\AppData\\Local\\Temp\\ipykernel_10640\\1997337888.py:1: FutureWarning: A value is trying to be set on a copy of a DataFrame or Series through chained assignment using an inplace method.\n",
      "The behavior will change in pandas 3.0. This inplace method will never work because the intermediate object on which we are setting values always behaves as a copy.\n",
      "\n",
      "For example, when doing 'df[col].method(value, inplace=True)', try using 'df.method({col: value}, inplace=True)' or df[col] = df[col].method(value) instead, to perform the operation inplace on the original object.\n",
      "\n",
      "\n",
      "  car_data_clean['bt'].fillna(car_data_clean['bt'].mode()[0], inplace=True)\n"
     ]
    }
   ],
   "source": [
    "car_data_clean['bt'].fillna(car_data_clean['bt'].mode()[0], inplace=True)"
   ]
  },
  {
   "cell_type": "code",
   "execution_count": 28,
   "metadata": {},
   "outputs": [
    {
     "name": "stderr",
     "output_type": "stream",
     "text": [
      "C:\\Users\\rs\\AppData\\Local\\Temp\\ipykernel_10640\\833354675.py:1: FutureWarning: A value is trying to be set on a copy of a DataFrame or Series through chained assignment using an inplace method.\n",
      "The behavior will change in pandas 3.0. This inplace method will never work because the intermediate object on which we are setting values always behaves as a copy.\n",
      "\n",
      "For example, when doing 'df[col].method(value, inplace=True)', try using 'df.method({col: value}, inplace=True)' or df[col] = df[col].method(value) instead, to perform the operation inplace on the original object.\n",
      "\n",
      "\n",
      "  car_data_clean['Insurance Validity'].fillna(car_data_clean['Insurance Validity'].mode()[0], inplace=True)\n"
     ]
    }
   ],
   "source": [
    "car_data_clean['Insurance Validity'].fillna(car_data_clean['Insurance Validity'].mode()[0], inplace=True)"
   ]
  },
  {
   "cell_type": "code",
   "execution_count": 29,
   "metadata": {},
   "outputs": [
    {
     "name": "stderr",
     "output_type": "stream",
     "text": [
      "C:\\Users\\rs\\AppData\\Local\\Temp\\ipykernel_10640\\2030761867.py:1: FutureWarning: A value is trying to be set on a copy of a DataFrame or Series through chained assignment using an inplace method.\n",
      "The behavior will change in pandas 3.0. This inplace method will never work because the intermediate object on which we are setting values always behaves as a copy.\n",
      "\n",
      "For example, when doing 'df[col].method(value, inplace=True)', try using 'df.method({col: value}, inplace=True)' or df[col] = df[col].method(value) instead, to perform the operation inplace on the original object.\n",
      "\n",
      "\n",
      "  car_data_clean['RTO'].fillna(car_data_clean['RTO'].mode()[0], inplace=True)\n"
     ]
    }
   ],
   "source": [
    "car_data_clean['RTO'].fillna(car_data_clean['RTO'].mode()[0], inplace=True)"
   ]
  },
  {
   "cell_type": "code",
   "execution_count": 30,
   "metadata": {},
   "outputs": [
    {
     "name": "stderr",
     "output_type": "stream",
     "text": [
      "C:\\Users\\rs\\AppData\\Local\\Temp\\ipykernel_10640\\1456044748.py:1: FutureWarning: A value is trying to be set on a copy of a DataFrame or Series through chained assignment using an inplace method.\n",
      "The behavior will change in pandas 3.0. This inplace method will never work because the intermediate object on which we are setting values always behaves as a copy.\n",
      "\n",
      "For example, when doing 'df[col].method(value, inplace=True)', try using 'df.method({col: value}, inplace=True)' or df[col] = df[col].method(value) instead, to perform the operation inplace on the original object.\n",
      "\n",
      "\n",
      "  car_data_clean['Color'].fillna(car_data_clean['Color'].mode()[0], inplace=True)\n"
     ]
    }
   ],
   "source": [
    "car_data_clean['Color'].fillna(car_data_clean['Color'].mode()[0], inplace=True)"
   ]
  },
  {
   "cell_type": "code",
   "execution_count": 31,
   "metadata": {},
   "outputs": [
    {
     "data": {
      "text/plain": [
       "ft                       0\n",
       "bt                       0\n",
       "km                       0\n",
       "ownerNo                  0\n",
       "oem                      0\n",
       "model                    0\n",
       "modelYear                0\n",
       "variantName              0\n",
       "price                    0\n",
       "Insurance Validity       0\n",
       "Fuel Type                0\n",
       "RTO                      0\n",
       "Transmission             0\n",
       "Mileage                285\n",
       "Engine                   4\n",
       "Max Power               60\n",
       "Torque                  60\n",
       "Seats_1                  6\n",
       "Length                  79\n",
       "Width                   83\n",
       "Height                  79\n",
       "Gear Box              2813\n",
       "City                     0\n",
       "Color                    0\n",
       "top_features_count    1466\n",
       "No of Cylinder        1491\n",
       "dtype: int64"
      ]
     },
     "execution_count": 31,
     "metadata": {},
     "output_type": "execute_result"
    }
   ],
   "source": [
    "car_data_clean.isnull().sum()"
   ]
  },
  {
   "cell_type": "code",
   "execution_count": 32,
   "metadata": {},
   "outputs": [],
   "source": [
    "df=car_data_clean['Mileage'].dropna(axis=0)"
   ]
  },
  {
   "cell_type": "code",
   "execution_count": 33,
   "metadata": {},
   "outputs": [
    {
     "data": {
      "image/png": "[encoded data removed]",
      "text/plain": [
       "<Figure size 640x480 with 1 Axes>"
      ]
     },
     "metadata": {},
     "output_type": "display_data"
    }
   ],
   "source": [
    "import matplotlib.pyplot as plt\n",
    "plt.boxplot(df)\n",
    "plt.show()"
   ]
  },
  {
   "cell_type": "code",
   "execution_count": 34,
   "metadata": {},
   "outputs": [
    {
     "name": "stderr",
     "output_type": "stream",
     "text": [
      "C:\\Users\\rs\\AppData\\Local\\Temp\\ipykernel_10640\\2108734979.py:1: FutureWarning: A value is trying to be set on a copy of a DataFrame or Series through chained assignment using an inplace method.\n",
      "The behavior will change in pandas 3.0. This inplace method will never work because the intermediate object on which we are setting values always behaves as a copy.\n",
      "\n",
      "For example, when doing 'df[col].method(value, inplace=True)', try using 'df.method({col: value}, inplace=True)' or df[col] = df[col].method(value) instead, to perform the operation inplace on the original object.\n",
      "\n",
      "\n",
      "  car_data_clean['Mileage'].fillna(car_data_clean['Mileage'].median(), inplace=True)\n"
     ]
    }
   ],
   "source": [
    "car_data_clean['Mileage'].fillna(car_data_clean['Mileage'].median(), inplace=True)"
   ]
  },
  {
   "cell_type": "code",
   "execution_count": 35,
   "metadata": {},
   "outputs": [
    {
     "data": {
      "image/png": "[encoded data removed]",
      "text/plain": [
       "<Figure size 640x480 with 1 Axes>"
      ]
     },
     "metadata": {},
     "output_type": "display_data"
    }
   ],
   "source": [
    "import matplotlib.pyplot as plt\n",
    "df=car_data_clean['Engine'].dropna(axis=0)\n",
    "plt.boxplot(df)\n",
    "plt.show()"
   ]
  },
  {
   "cell_type": "code",
   "execution_count": 36,
   "metadata": {},
   "outputs": [
    {
     "name": "stderr",
     "output_type": "stream",
     "text": [
      "C:\\Users\\rs\\AppData\\Local\\Temp\\ipykernel_10640\\601651388.py:1: FutureWarning: A value is trying to be set on a copy of a DataFrame or Series through chained assignment using an inplace method.\n",
      "The behavior will change in pandas 3.0. This inplace method will never work because the intermediate object on which we are setting values always behaves as a copy.\n",
      "\n",
      "For example, when doing 'df[col].method(value, inplace=True)', try using 'df.method({col: value}, inplace=True)' or df[col] = df[col].method(value) instead, to perform the operation inplace on the original object.\n",
      "\n",
      "\n",
      "  car_data_clean['Engine'].fillna(car_data_clean['Engine'].median(), inplace=True)\n"
     ]
    }
   ],
   "source": [
    "car_data_clean['Engine'].fillna(car_data_clean['Engine'].median(), inplace=True)"
   ]
  },
  {
   "cell_type": "code",
   "execution_count": 37,
   "metadata": {},
   "outputs": [
    {
     "data": {
      "image/png": "[encoded data removed]",
      "text/plain": [
       "<Figure size 640x480 with 1 Axes>"
      ]
     },
     "metadata": {},
     "output_type": "display_data"
    }
   ],
   "source": [
    "import matplotlib.pyplot as plt\n",
    "df=car_data_clean['Max Power'].dropna(axis=0)\n",
    "plt.boxplot(df)\n",
    "plt.show()"
   ]
  },
  {
   "cell_type": "code",
   "execution_count": 38,
   "metadata": {},
   "outputs": [
    {
     "name": "stderr",
     "output_type": "stream",
     "text": [
      "C:\\Users\\rs\\AppData\\Local\\Temp\\ipykernel_10640\\4132971450.py:1: FutureWarning: A value is trying to be set on a copy of a DataFrame or Series through chained assignment using an inplace method.\n",
      "The behavior will change in pandas 3.0. This inplace method will never work because the intermediate object on which we are setting values always behaves as a copy.\n",
      "\n",
      "For example, when doing 'df[col].method(value, inplace=True)', try using 'df.method({col: value}, inplace=True)' or df[col] = df[col].method(value) instead, to perform the operation inplace on the original object.\n",
      "\n",
      "\n",
      "  car_data_clean['Max Power'].fillna(car_data_clean['Max Power'].median(), inplace=True)\n"
     ]
    }
   ],
   "source": [
    "car_data_clean['Max Power'].fillna(car_data_clean['Max Power'].median(), inplace=True)"
   ]
  },
  {
   "cell_type": "code",
   "execution_count": 39,
   "metadata": {},
   "outputs": [
    {
     "data": {
      "image/png": "[encoded data removed]",
      "text/plain": [
       "<Figure size 640x480 with 1 Axes>"
      ]
     },
     "metadata": {},
     "output_type": "display_data"
    }
   ],
   "source": [
    "import matplotlib.pyplot as plt\n",
    "df=car_data_clean['Torque'].dropna(axis=0)\n",
    "plt.boxplot(df)\n",
    "plt.show()"
   ]
  },
  {
   "cell_type": "code",
   "execution_count": 40,
   "metadata": {},
   "outputs": [
    {
     "name": "stderr",
     "output_type": "stream",
     "text": [
      "C:\\Users\\rs\\AppData\\Local\\Temp\\ipykernel_10640\\589363382.py:1: FutureWarning: A value is trying to be set on a copy of a DataFrame or Series through chained assignment using an inplace method.\n",
      "The behavior will change in pandas 3.0. This inplace method will never work because the intermediate object on which we are setting values always behaves as a copy.\n",
      "\n",
      "For example, when doing 'df[col].method(value, inplace=True)', try using 'df.method({col: value}, inplace=True)' or df[col] = df[col].method(value) instead, to perform the operation inplace on the original object.\n",
      "\n",
      "\n",
      "  car_data_clean['Torque'].fillna(car_data_clean['Torque'].median(), inplace=True)\n"
     ]
    }
   ],
   "source": [
    "car_data_clean['Torque'].fillna(car_data_clean['Torque'].median(), inplace=True)"
   ]
  },
  {
   "cell_type": "code",
   "execution_count": 41,
   "metadata": {},
   "outputs": [
    {
     "data": {
      "image/png": "[encoded data removed]",
      "text/plain": [
       "<Figure size 640x480 with 1 Axes>"
      ]
     },
     "metadata": {},
     "output_type": "display_data"
    }
   ],
   "source": [
    "import matplotlib.pyplot as plt\n",
    "df=car_data_clean['Seats_1'].dropna(axis=0)\n",
    "plt.boxplot(df)\n",
    "plt.show()"
   ]
  },
  {
   "cell_type": "code",
   "execution_count": 42,
   "metadata": {},
   "outputs": [
    {
     "name": "stderr",
     "output_type": "stream",
     "text": [
      "C:\\Users\\rs\\AppData\\Local\\Temp\\ipykernel_10640\\2163072649.py:1: FutureWarning: A value is trying to be set on a copy of a DataFrame or Series through chained assignment using an inplace method.\n",
      "The behavior will change in pandas 3.0. This inplace method will never work because the intermediate object on which we are setting values always behaves as a copy.\n",
      "\n",
      "For example, when doing 'df[col].method(value, inplace=True)', try using 'df.method({col: value}, inplace=True)' or df[col] = df[col].method(value) instead, to perform the operation inplace on the original object.\n",
      "\n",
      "\n",
      "  car_data_clean['Seats_1'].fillna(car_data_clean['Seats_1'].median(), inplace=True)\n"
     ]
    }
   ],
   "source": [
    "car_data_clean['Seats_1'].fillna(car_data_clean['Seats_1'].median(), inplace=True)"
   ]
  },
  {
   "cell_type": "code",
   "execution_count": 43,
   "metadata": {},
   "outputs": [
    {
     "data": {
      "image/png": "[encoded data removed]",
      "text/plain": [
       "<Figure size 640x480 with 1 Axes>"
      ]
     },
     "metadata": {},
     "output_type": "display_data"
    }
   ],
   "source": [
    "import matplotlib.pyplot as plt\n",
    "df1=car_data_clean['Length'].dropna(axis=0)\n",
    "\n",
    "plt.boxplot(df1)\n",
    "\n",
    "\n",
    "plt.show()"
   ]
  },
  {
   "cell_type": "code",
   "execution_count": 44,
   "metadata": {},
   "outputs": [
    {
     "name": "stderr",
     "output_type": "stream",
     "text": [
      "C:\\Users\\rs\\AppData\\Local\\Temp\\ipykernel_10640\\245381998.py:1: FutureWarning: A value is trying to be set on a copy of a DataFrame or Series through chained assignment using an inplace method.\n",
      "The behavior will change in pandas 3.0. This inplace method will never work because the intermediate object on which we are setting values always behaves as a copy.\n",
      "\n",
      "For example, when doing 'df[col].method(value, inplace=True)', try using 'df.method({col: value}, inplace=True)' or df[col] = df[col].method(value) instead, to perform the operation inplace on the original object.\n",
      "\n",
      "\n",
      "  car_data_clean['Length'].fillna(car_data_clean['Length'].mean(), inplace=True)\n"
     ]
    }
   ],
   "source": [
    "car_data_clean['Length'].fillna(car_data_clean['Length'].mean(), inplace=True)"
   ]
  },
  {
   "cell_type": "code",
   "execution_count": 45,
   "metadata": {},
   "outputs": [
    {
     "data": {
      "text/plain": [
       "{'whiskers': [<matplotlib.lines.Line2D at 0x2a94bc7a660>,\n",
       "  <matplotlib.lines.Line2D at 0x2a94bc7faa0>],\n",
       " 'caps': [<matplotlib.lines.Line2D at 0x2a94bc7ca40>,\n",
       "  <matplotlib.lines.Line2D at 0x2a94bc7e3f0>],\n",
       " 'boxes': [<matplotlib.lines.Line2D at 0x2a94bc78e30>],\n",
       " 'medians': [<matplotlib.lines.Line2D at 0x2a94bc7ede0>],\n",
       " 'fliers': [<matplotlib.lines.Line2D at 0x2a94bc147d0>],\n",
       " 'means': []}"
      ]
     },
     "execution_count": 45,
     "metadata": {},
     "output_type": "execute_result"
    },
    {
     "data": {
      "image/png": "[encoded data removed]",
      "text/plain": [
       "<Figure size 640x480 with 1 Axes>"
      ]
     },
     "metadata": {},
     "output_type": "display_data"
    }
   ],
   "source": [
    "df2=car_data_clean['Width'].dropna(axis=0)\n",
    "plt.boxplot(df2)"
   ]
  },
  {
   "cell_type": "code",
   "execution_count": 46,
   "metadata": {},
   "outputs": [
    {
     "name": "stderr",
     "output_type": "stream",
     "text": [
      "C:\\Users\\rs\\AppData\\Local\\Temp\\ipykernel_10640\\1649009528.py:1: FutureWarning: A value is trying to be set on a copy of a DataFrame or Series through chained assignment using an inplace method.\n",
      "The behavior will change in pandas 3.0. This inplace method will never work because the intermediate object on which we are setting values always behaves as a copy.\n",
      "\n",
      "For example, when doing 'df[col].method(value, inplace=True)', try using 'df.method({col: value}, inplace=True)' or df[col] = df[col].method(value) instead, to perform the operation inplace on the original object.\n",
      "\n",
      "\n",
      "  car_data_clean['Width'].fillna(car_data_clean['Width'].median(), inplace=True)\n"
     ]
    }
   ],
   "source": [
    "car_data_clean['Width'].fillna(car_data_clean['Width'].median(), inplace=True)"
   ]
  },
  {
   "cell_type": "code",
   "execution_count": 47,
   "metadata": {},
   "outputs": [
    {
     "data": {
      "text/plain": [
       "{'whiskers': [<matplotlib.lines.Line2D at 0x2a94bc64560>,\n",
       "  <matplotlib.lines.Line2D at 0x2a94bc65d90>],\n",
       " 'caps': [<matplotlib.lines.Line2D at 0x2a94bc66cf0>,\n",
       "  <matplotlib.lines.Line2D at 0x2a94bc67cb0>],\n",
       " 'boxes': [<matplotlib.lines.Line2D at 0x2a94bc66ae0>],\n",
       " 'medians': [<matplotlib.lines.Line2D at 0x2a94bc65640>],\n",
       " 'fliers': [<matplotlib.lines.Line2D at 0x2a94bc65fd0>],\n",
       " 'means': []}"
      ]
     },
     "execution_count": 47,
     "metadata": {},
     "output_type": "execute_result"
    },
    {
     "data": {
      "image/png": "[encoded data removed]",
      "text/plain": [
       "<Figure size 640x480 with 1 Axes>"
      ]
     },
     "metadata": {},
     "output_type": "display_data"
    }
   ],
   "source": [
    "\n",
    "df3=car_data_clean['Height'].dropna(axis=0)\n",
    "plt.boxplot(df3)"
   ]
  },
  {
   "cell_type": "code",
   "execution_count": 48,
   "metadata": {},
   "outputs": [
    {
     "name": "stderr",
     "output_type": "stream",
     "text": [
      "C:\\Users\\rs\\AppData\\Local\\Temp\\ipykernel_10640\\2124335897.py:1: FutureWarning: A value is trying to be set on a copy of a DataFrame or Series through chained assignment using an inplace method.\n",
      "The behavior will change in pandas 3.0. This inplace method will never work because the intermediate object on which we are setting values always behaves as a copy.\n",
      "\n",
      "For example, when doing 'df[col].method(value, inplace=True)', try using 'df.method({col: value}, inplace=True)' or df[col] = df[col].method(value) instead, to perform the operation inplace on the original object.\n",
      "\n",
      "\n",
      "  car_data_clean['Height'].fillna(car_data_clean['Height'].median(), inplace=True)\n"
     ]
    }
   ],
   "source": [
    "car_data_clean['Height'].fillna(car_data_clean['Height'].median(), inplace=True)"
   ]
  },
  {
   "cell_type": "code",
   "execution_count": 49,
   "metadata": {},
   "outputs": [
    {
     "data": {
      "text/plain": [
       "{'whiskers': [<matplotlib.lines.Line2D at 0x2a94bcc7560>,\n",
       "  <matplotlib.lines.Line2D at 0x2a94bcc75f0>],\n",
       " 'caps': [<matplotlib.lines.Line2D at 0x2a94bcc5d60>,\n",
       "  <matplotlib.lines.Line2D at 0x2a94bcc7ce0>],\n",
       " 'boxes': [<matplotlib.lines.Line2D at 0x2a94bcc7740>],\n",
       " 'medians': [<matplotlib.lines.Line2D at 0x2a94bcc6810>],\n",
       " 'fliers': [<matplotlib.lines.Line2D at 0x2a94bcc4320>],\n",
       " 'means': []}"
      ]
     },
     "execution_count": 49,
     "metadata": {},
     "output_type": "execute_result"
    },
    {
     "data": {
      "image/png": "[encoded data removed]",
      "text/plain": [
       "<Figure size 640x480 with 1 Axes>"
      ]
     },
     "metadata": {},
     "output_type": "display_data"
    }
   ],
   "source": [
    "\n",
    "df=car_data_clean['Gear Box'].dropna(axis=0)\n",
    "plt.boxplot(df3)"
   ]
  },
  {
   "cell_type": "code",
   "execution_count": 50,
   "metadata": {},
   "outputs": [
    {
     "name": "stderr",
     "output_type": "stream",
     "text": [
      "C:\\Users\\rs\\AppData\\Local\\Temp\\ipykernel_10640\\2124335897.py:1: FutureWarning: A value is trying to be set on a copy of a DataFrame or Series through chained assignment using an inplace method.\n",
      "The behavior will change in pandas 3.0. This inplace method will never work because the intermediate object on which we are setting values always behaves as a copy.\n",
      "\n",
      "For example, when doing 'df[col].method(value, inplace=True)', try using 'df.method({col: value}, inplace=True)' or df[col] = df[col].method(value) instead, to perform the operation inplace on the original object.\n",
      "\n",
      "\n",
      "  car_data_clean['Height'].fillna(car_data_clean['Height'].median(), inplace=True)\n"
     ]
    }
   ],
   "source": [
    "car_data_clean['Height'].fillna(car_data_clean['Height'].median(), inplace=True)"
   ]
  },
  {
   "cell_type": "code",
   "execution_count": 51,
   "metadata": {},
   "outputs": [],
   "source": [
    "df=car_data_clean['No of Cylinder'].dropna(axis=0)"
   ]
  },
  {
   "cell_type": "code",
   "execution_count": 52,
   "metadata": {},
   "outputs": [
    {
     "data": {
      "image/png": "[encoded data removed]",
      "text/plain": [
       "<Figure size 640x480 with 1 Axes>"
      ]
     },
     "metadata": {},
     "output_type": "display_data"
    }
   ],
   "source": [
    "import matplotlib.pyplot as plt\n",
    "plt.boxplot(df)\n",
    "plt.show()"
   ]
  },
  {
   "cell_type": "code",
   "execution_count": 53,
   "metadata": {},
   "outputs": [
    {
     "name": "stderr",
     "output_type": "stream",
     "text": [
      "C:\\Users\\rs\\AppData\\Local\\Temp\\ipykernel_10640\\2773223941.py:1: FutureWarning: A value is trying to be set on a copy of a DataFrame or Series through chained assignment using an inplace method.\n",
      "The behavior will change in pandas 3.0. This inplace method will never work because the intermediate object on which we are setting values always behaves as a copy.\n",
      "\n",
      "For example, when doing 'df[col].method(value, inplace=True)', try using 'df.method({col: value}, inplace=True)' or df[col] = df[col].method(value) instead, to perform the operation inplace on the original object.\n",
      "\n",
      "\n",
      "  car_data_clean['No of Cylinder'].fillna(car_data_clean['No of Cylinder'].median(), inplace=True)\n"
     ]
    }
   ],
   "source": [
    "car_data_clean['No of Cylinder'].fillna(car_data_clean['No of Cylinder'].median(), inplace=True)"
   ]
  },
  {
   "cell_type": "code",
   "execution_count": 54,
   "metadata": {},
   "outputs": [],
   "source": [
    "df=car_data_clean['top_features_count'].dropna(axis=0)"
   ]
  },
  {
   "cell_type": "code",
   "execution_count": 55,
   "metadata": {},
   "outputs": [
    {
     "data": {
      "image/png": "[encoded data removed]",
      "text/plain": [
       "<Figure size 640x480 with 1 Axes>"
      ]
     },
     "metadata": {},
     "output_type": "display_data"
    }
   ],
   "source": [
    "import matplotlib.pyplot as plt\n",
    "plt.boxplot(df)\n",
    "plt.show()"
   ]
  },
  {
   "cell_type": "code",
   "execution_count": 56,
   "metadata": {},
   "outputs": [
    {
     "name": "stderr",
     "output_type": "stream",
     "text": [
      "C:\\Users\\rs\\AppData\\Local\\Temp\\ipykernel_10640\\372662071.py:1: FutureWarning: A value is trying to be set on a copy of a DataFrame or Series through chained assignment using an inplace method.\n",
      "The behavior will change in pandas 3.0. This inplace method will never work because the intermediate object on which we are setting values always behaves as a copy.\n",
      "\n",
      "For example, when doing 'df[col].method(value, inplace=True)', try using 'df.method({col: value}, inplace=True)' or df[col] = df[col].method(value) instead, to perform the operation inplace on the original object.\n",
      "\n",
      "\n",
      "  car_data_clean['top_features_count'].fillna(car_data_clean['top_features_count'].median(), inplace=True)\n"
     ]
    }
   ],
   "source": [
    "car_data_clean['top_features_count'].fillna(car_data_clean['top_features_count'].median(), inplace=True)"
   ]
  },
  {
   "cell_type": "code",
   "execution_count": 57,
   "metadata": {},
   "outputs": [],
   "source": [
    "df=car_data_clean['Gear Box'].dropna(axis=0)"
   ]
  },
  {
   "cell_type": "code",
   "execution_count": 58,
   "metadata": {},
   "outputs": [
    {
     "data": {
      "image/png": "[encoded data removed]",
      "text/plain": [
       "<Figure size 640x480 with 1 Axes>"
      ]
     },
     "metadata": {},
     "output_type": "display_data"
    }
   ],
   "source": [
    "import matplotlib.pyplot as plt\n",
    "plt.boxplot(df)\n",
    "plt.show()"
   ]
  },
  {
   "cell_type": "code",
   "execution_count": 59,
   "metadata": {},
   "outputs": [
    {
     "name": "stderr",
     "output_type": "stream",
     "text": [
      "C:\\Users\\rs\\AppData\\Local\\Temp\\ipykernel_10640\\3000846367.py:1: FutureWarning: A value is trying to be set on a copy of a DataFrame or Series through chained assignment using an inplace method.\n",
      "The behavior will change in pandas 3.0. This inplace method will never work because the intermediate object on which we are setting values always behaves as a copy.\n",
      "\n",
      "For example, when doing 'df[col].method(value, inplace=True)', try using 'df.method({col: value}, inplace=True)' or df[col] = df[col].method(value) instead, to perform the operation inplace on the original object.\n",
      "\n",
      "\n",
      "  car_data_clean['Gear Box'].fillna(car_data_clean['Gear Box'].median(), inplace=True)\n"
     ]
    }
   ],
   "source": [
    "car_data_clean['Gear Box'].fillna(car_data_clean['Gear Box'].median(), inplace=True)"
   ]
  },
  {
   "cell_type": "code",
   "execution_count": 60,
   "metadata": {},
   "outputs": [
    {
     "data": {
      "text/plain": [
       "ft                    0\n",
       "bt                    0\n",
       "km                    0\n",
       "ownerNo               0\n",
       "oem                   0\n",
       "model                 0\n",
       "modelYear             0\n",
       "variantName           0\n",
       "price                 0\n",
       "Insurance Validity    0\n",
       "Fuel Type             0\n",
       "RTO                   0\n",
       "Transmission          0\n",
       "Mileage               0\n",
       "Engine                0\n",
       "Max Power             0\n",
       "Torque                0\n",
       "Seats_1               0\n",
       "Length                0\n",
       "Width                 0\n",
       "Height                0\n",
       "Gear Box              0\n",
       "City                  0\n",
       "Color                 0\n",
       "top_features_count    0\n",
       "No of Cylinder        0\n",
       "dtype: int64"
      ]
     },
     "execution_count": 60,
     "metadata": {},
     "output_type": "execute_result"
    }
   ],
   "source": [
    "car_data_clean.isnull().sum()"
   ]
  },
  {
   "cell_type": "code",
   "execution_count": 61,
   "metadata": {},
   "outputs": [],
   "source": [
    "car_data_clean.to_csv(\"finalcarpre.csv\",index=False)"
   ]
  }
 ],
 "metadata": {
  "kernelspec": {
   "display_name": "Python 3",
   "language": "python",
   "name": "python3"
  },
  "language_info": {
   "codemirror_mode": {
    "name": "ipython",
    "version": 3
   },
   "file_extension": ".py",
   "mimetype": "text/x-python",
   "name": "python",
   "nbconvert_exporter": "python",
   "pygments_lexer": "ipython3",
   "version": "3.12.6"
  }
 },
 "nbformat": 4,
 "nbformat_minor": 2
}
